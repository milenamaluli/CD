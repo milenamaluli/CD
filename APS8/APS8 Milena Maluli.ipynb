{
 "cells": [
  {
   "cell_type": "markdown",
   "metadata": {},
   "source": [
    "# APS 8"
   ]
  },
  {
   "cell_type": "markdown",
   "metadata": {},
   "source": [
    "Entrega: 28/11 ao final do atendimento (17:15)"
   ]
  },
  {
   "cell_type": "code",
   "execution_count": 20,
   "metadata": {
    "collapsed": true
   },
   "outputs": [],
   "source": [
    "%matplotlib inline\n",
    "\n",
    "import os\n",
    "import matplotlib.pyplot as plt\n",
    "import pandas as pd\n",
    "import numpy as np\n",
    "from scipy import stats"
   ]
  },
  {
   "cell_type": "markdown",
   "metadata": {},
   "source": [
    "## Questão 1"
   ]
  },
  {
   "cell_type": "markdown",
   "metadata": {},
   "source": [
    "Assuma que $X$ seja uma variável aleatória contínua que descreve o preço de um multímetro digital em uma loja brasileira qualquer. Ainda, assuma que o preço médio seja igual a $R\\$ 45,00$ e o desvio padrão, igual a $R\\$ 25,00$.\n",
    "\n",
    "Em todos os itens a seguir, deixe claro como foi construído o novo preço em função de $X$.\n",
    "\n",
    "Deixe todas as contas claramente indicadas.\n",
    "\n",
    "a) Se todas as lojas brasileiras que vendem multímetro resolvessem acrescentar 15 reais no preço de cada um dos seus respectivos multímetros. Nesse caso, qual o novo preço médio do multímetro e respectivo desvio padrão?\n",
    "\n",
    "b) Se todas as lojas brasileiras que vendem multímetro resolvessem aumentar o preço de cada um dos seus respectivos multímetros em $150\\%$. Nesse caso, qual o novo preço médio do multímetro e respectivo desvio padrão?\n",
    "\n",
    "c) Se você precisa comprar dez multímetros e deseja comprá-los todos iguais e na mesma loja. Nesse caso, qual o gasto total esperado e respectivo desvio padrão?"
   ]
  },
  {
   "cell_type": "code",
   "execution_count": 21,
   "metadata": {
    "collapsed": true
   },
   "outputs": [],
   "source": [
    "mu=45\n",
    "sigma=25"
   ]
  },
  {
   "cell_type": "code",
   "execution_count": 22,
   "metadata": {},
   "outputs": [
    {
     "name": "stdout",
     "output_type": "stream",
     "text": [
      "60 25\n"
     ]
    }
   ],
   "source": [
    "#a\n",
    "mua=mu+15\n",
    "sigmaa=sigma\n",
    "print(mua,sigmaa)"
   ]
  },
  {
   "cell_type": "code",
   "execution_count": 23,
   "metadata": {},
   "outputs": [
    {
     "name": "stdout",
     "output_type": "stream",
     "text": [
      "112.5 62.5\n"
     ]
    }
   ],
   "source": [
    "#b-- 1+1.5=2.5\n",
    "mub=2.5*mu\n",
    "sigmab=2.5*sigma\n",
    "print(mub,sigmab)"
   ]
  },
  {
   "cell_type": "code",
   "execution_count": 24,
   "metadata": {},
   "outputs": [
    {
     "name": "stdout",
     "output_type": "stream",
     "text": [
      "450 250\n"
     ]
    }
   ],
   "source": [
    "muc=mu*10\n",
    "sigmac=sigma*10\n",
    "print(muc,sigmac)"
   ]
  },
  {
   "cell_type": "markdown",
   "metadata": {},
   "source": [
    "## Questão 2"
   ]
  },
  {
   "cell_type": "markdown",
   "metadata": {},
   "source": [
    "\t\n",
    "\t\n",
    "Assuma que, na disciplina Ciência dos dados, a nota final da disciplina seja função da nota média das provas $X$ e da nota média dos projetos $Y$. Assuma ainda que ambas as notas tem mesmo peso na construção da nota final na disciplina.\n",
    "\n",
    "\n",
    "Considerando que a nota média dos alunos nas provas segue uma normal com média 4 e desvio padrão igual a 1,5, ou seja $ X \\sim N(4 ; 2,25)$ . E que a nota média dos alunos nos projetos segue uma normal com média 7 e desvio padrão igual a 1, ou seja, $Y\\sim N(7 ; 1)$.\n",
    "\n",
    "\n",
    "Na prática, é razoável acreditar que haja uma associação positiva entre essas notas. Aqui, considere que a covariância entre essas notas médias é igual a $0,675$ .\n",
    "\n",
    "Em todos os itens a seguir, deixe todas as contas claramente indicadas. \n",
    "\n",
    "\n",
    "a) Calcule a nota média final e respectivo desvio padrão.\n",
    "   \n",
    " b) Considere que a nota final na disciplina Ciência dos dados segue uma distribuição com média e variância obtidas no item anterior.      Calcule a probabilidade de um aluno ser aprovado na disciplina.\n"
   ]
  },
  {
   "cell_type": "code",
   "execution_count": 25,
   "metadata": {},
   "outputs": [
    {
     "name": "stdout",
     "output_type": "stream",
     "text": [
      "5.5 1.0723805294763609\n"
     ]
    }
   ],
   "source": [
    "#a\n",
    "mu= 4*1/2+7*1/2\n",
    "var=2.25*1/4+1/4+0.675*2*1/4\n",
    "sigma=var**(1/2)\n",
    "print(mu, sigma)"
   ]
  },
  {
   "cell_type": "code",
   "execution_count": 26,
   "metadata": {},
   "outputs": [
    {
     "data": {
      "text/plain": [
       "<matplotlib.text.Text at 0x24b83684320>"
      ]
     },
     "execution_count": 26,
     "metadata": {},
     "output_type": "execute_result"
    },
    {
     "data": {
      "image/png": "[encoded data removed]",
      "text/plain": [
       "<matplotlib.figure.Figure at 0x24b83620710>"
      ]
     },
     "metadata": {},
     "output_type": "display_data"
    }
   ],
   "source": [
    "#b\n",
    "x=sorted(stats.norm.rvs(size=10000, loc=mu, scale=sigma))\n",
    "plt.hist(x, normed=1, histtype='stepfilled', alpha=0.2)\n",
    "plt.plot(x, stats.norm.pdf(x, loc=mu, scale=sigma), lw=3, alpha=0.6)\n",
    "plt.title('')\n",
    "plt.xlabel('Nota')\n",
    "plt.ylabel('Densidade')"
   ]
  },
  {
   "cell_type": "code",
   "execution_count": 27,
   "metadata": {},
   "outputs": [
    {
     "data": {
      "text/plain": [
       "0.67948257850080818"
      ]
     },
     "execution_count": 27,
     "metadata": {},
     "output_type": "execute_result"
    }
   ],
   "source": [
    "1-stats.norm.cdf(5,loc=mu, scale=sigma)"
   ]
  },
  {
   "cell_type": "markdown",
   "metadata": {},
   "source": [
    "### Dataset para as questões de programação"
   ]
  },
  {
   "cell_type": "markdown",
   "metadata": {},
   "source": [
    "Vamos trabalhar com o problema *House Sales in King County*, do Kaggle\n",
    "[https://www.kaggle.com/harlfoxem/housesalesprediction](https://www.kaggle.com/harlfoxem/housesalesprediction)"
   ]
  },
  {
   "cell_type": "code",
   "execution_count": 28,
   "metadata": {
    "collapsed": true
   },
   "outputs": [],
   "source": [
    "%matplotlib inline\n",
    "%reset -f\n",
    "\n",
    "from __future__ import print_function\n",
    "from ipywidgets import interact, interactive, fixed, interact_manual\n",
    "import ipywidgets as widgets\n",
    "\n",
    "import matplotlib.pyplot as plt\n",
    "import pandas as pd\n",
    "import numpy as np\n",
    "from scipy import stats\n",
    "import statsmodels.api as sm"
   ]
  },
  {
   "cell_type": "code",
   "execution_count": 29,
   "metadata": {
    "collapsed": true
   },
   "outputs": [],
   "source": [
    "houses = pd.read_csv(\"casas.csv\")"
   ]
  },
  {
   "cell_type": "code",
   "execution_count": 30,
   "metadata": {},
   "outputs": [
    {
     "data": {
      "text/html": [
       "<div>\n",
       "<table border=\"1\" class=\"dataframe\">\n",
       "  <thead>\n",
       "    <tr style=\"text-align: right;\">\n",
       "      <th></th>\n",
       "      <th>price</th>\n",
       "      <th>bedrooms</th>\n",
       "      <th>bathrooms</th>\n",
       "      <th>sqft_living</th>\n",
       "      <th>sqft_lot</th>\n",
       "      <th>floors</th>\n",
       "      <th>sqft_basement</th>\n",
       "      <th>grade</th>\n",
       "    </tr>\n",
       "  </thead>\n",
       "  <tbody>\n",
       "    <tr>\n",
       "      <th>0</th>\n",
       "      <td>540000.0</td>\n",
       "      <td>4</td>\n",
       "      <td>2.50</td>\n",
       "      <td>2600</td>\n",
       "      <td>9935</td>\n",
       "      <td>2.0</td>\n",
       "      <td>0</td>\n",
       "      <td>8</td>\n",
       "    </tr>\n",
       "    <tr>\n",
       "      <th>1</th>\n",
       "      <td>815000.0</td>\n",
       "      <td>3</td>\n",
       "      <td>3.75</td>\n",
       "      <td>2780</td>\n",
       "      <td>5002</td>\n",
       "      <td>2.0</td>\n",
       "      <td>0</td>\n",
       "      <td>10</td>\n",
       "    </tr>\n",
       "    <tr>\n",
       "      <th>2</th>\n",
       "      <td>279000.0</td>\n",
       "      <td>3</td>\n",
       "      <td>2.25</td>\n",
       "      <td>2070</td>\n",
       "      <td>7800</td>\n",
       "      <td>1.0</td>\n",
       "      <td>900</td>\n",
       "      <td>7</td>\n",
       "    </tr>\n",
       "    <tr>\n",
       "      <th>3</th>\n",
       "      <td>360000.0</td>\n",
       "      <td>2</td>\n",
       "      <td>2.50</td>\n",
       "      <td>1233</td>\n",
       "      <td>1244</td>\n",
       "      <td>2.0</td>\n",
       "      <td>270</td>\n",
       "      <td>7</td>\n",
       "    </tr>\n",
       "    <tr>\n",
       "      <th>4</th>\n",
       "      <td>309000.0</td>\n",
       "      <td>3</td>\n",
       "      <td>2.50</td>\n",
       "      <td>1990</td>\n",
       "      <td>3614</td>\n",
       "      <td>2.0</td>\n",
       "      <td>0</td>\n",
       "      <td>7</td>\n",
       "    </tr>\n",
       "  </tbody>\n",
       "</table>\n",
       "</div>"
      ],
      "text/plain": [
       "      price  bedrooms  bathrooms  sqft_living  sqft_lot  floors  \\\n",
       "0  540000.0         4       2.50         2600      9935     2.0   \n",
       "1  815000.0         3       3.75         2780      5002     2.0   \n",
       "2  279000.0         3       2.25         2070      7800     1.0   \n",
       "3  360000.0         2       2.50         1233      1244     2.0   \n",
       "4  309000.0         3       2.50         1990      3614     2.0   \n",
       "\n",
       "   sqft_basement  grade  \n",
       "0              0      8  \n",
       "1              0     10  \n",
       "2            900      7  \n",
       "3            270      7  \n",
       "4              0      7  "
      ]
     },
     "execution_count": 30,
     "metadata": {},
     "output_type": "execute_result"
    }
   ],
   "source": [
    "houses.head()"
   ]
  },
  {
   "cell_type": "markdown",
   "metadata": {},
   "source": [
    "## Q3\n",
    "\n",
    "O dataset fornecido é uma amostra extraída de um dataset maior. A amostra pode ter vindo de uma população com média de `sqft_lot` de 8250? \n",
    "\n",
    "Passos:\n",
    "\n",
    "**a)** Verifique que `sqft_lot` **não** é normal.\n",
    "\n",
    "Dica: na *APS 7* foi feito um teste de normalidade. Repita o mesmo processo\n",
    "\n",
    "**b)**  Se `sqft_lot` fosse normal, que tipo de teste poderíamos ter usado?\n",
    "\n",
    "**c)** Saberíamos $\\mu$ para montar o t? Saberíamos $\\sigma$?\n",
    "\n",
    "\n",
    "**Bootstrap**:\n",
    "\n",
    "**d)** Monte um intervalo percentil boostrap de $95\\%$.\n",
    "\n",
    "**e)** Informe os valores inferiores e superiores\n",
    "\n",
    "**f)** Conclua o teste\n"
   ]
  },
  {
   "cell_type": "code",
   "execution_count": 31,
   "metadata": {},
   "outputs": [
    {
     "data": {
      "text/plain": [
       "((array([-2.3041488 , -1.9474555 , -1.73875672, -1.58628365, -1.46371296,\n",
       "         -1.35987397, -1.26892666, -1.1874133 , -1.11310799, -1.04448844,\n",
       "         -0.98046451, -0.92022672, -0.86315599, -0.8087671 , -0.75667176,\n",
       "         -0.70655357, -0.65815059, -0.61124291, -0.56564343, -0.52119116,\n",
       "         -0.47774596, -0.4351846 , -0.39339758, -0.35228669, -0.31176295,\n",
       "         -0.271745  , -0.23215772, -0.1929311 , -0.15399923, -0.11529947,\n",
       "         -0.07677169, -0.03835758,  0.        ,  0.03835758,  0.07677169,\n",
       "          0.11529947,  0.15399923,  0.1929311 ,  0.23215772,  0.271745  ,\n",
       "          0.31176295,  0.35228669,  0.39339758,  0.4351846 ,  0.47774596,\n",
       "          0.52119116,  0.56564343,  0.61124291,  0.65815059,  0.70655357,\n",
       "          0.75667176,  0.8087671 ,  0.86315599,  0.92022672,  0.98046451,\n",
       "          1.04448844,  1.11310799,  1.1874133 ,  1.26892666,  1.35987397,\n",
       "          1.46371296,  1.58628365,  1.73875672,  1.9474555 ,  2.3041488 ]),\n",
       "  array([  871,   953,  1005,  1060,  1202,  1244,  1521,  2720,  2765,\n",
       "          3225,  3313,  3400,  3614,  4000,  4089,  4188,  4500,  4500,\n",
       "          4663,  4759,  4777,  4800,  5000,  5002,  5211,  5280,  5283,\n",
       "          5284,  5503,  5539,  5760,  5800,  6000,  6000,  6079,  6110,\n",
       "          6355,  6642,  6717,  7200,  7216,  7242,  7300,  7344,  7800,\n",
       "          7910,  8004,  8008,  8136,  8195,  8390,  8891,  9935, 10200,\n",
       "         10500, 11793, 15000, 15239, 22500, 22710, 29699, 37500, 38016,\n",
       "         81892, 97661], dtype=int64)),\n",
       " (11101.872045185244, 10292.538461538459, 0.67404640585544884))"
      ]
     },
     "execution_count": 31,
     "metadata": {},
     "output_type": "execute_result"
    },
    {
     "data": {
      "image/png": "[encoded data removed]",
      "text/plain": [
       "<matplotlib.figure.Figure at 0x24b8330e860>"
      ]
     },
     "metadata": {},
     "output_type": "display_data"
    }
   ],
   "source": [
    "#a\n",
    "stats.probplot(houses.sqft_lot, dist='norm', plot=plt)"
   ]
  },
  {
   "cell_type": "markdown",
   "metadata": {},
   "source": [
    "#b\n",
    "Se fosse normal poderiamos usado o teste T."
   ]
  },
  {
   "cell_type": "markdown",
   "metadata": {},
   "source": [
    "#c\n",
    "Como não é uma normal, não poderiamos estimar xbarra."
   ]
  },
  {
   "cell_type": "markdown",
   "metadata": {},
   "source": [
    "Boostrap"
   ]
  },
  {
   "cell_type": "code",
   "execution_count": 33,
   "metadata": {},
   "outputs": [
    {
     "data": {
      "text/plain": [
       "count       65.000000\n",
       "mean     10292.538462\n",
       "std      16122.868507\n",
       "min        871.000000\n",
       "25%       4500.000000\n",
       "50%       6000.000000\n",
       "75%       8136.000000\n",
       "max      97661.000000\n",
       "Name: sqft_lot, dtype: float64"
      ]
     },
     "execution_count": 33,
     "metadata": {},
     "output_type": "execute_result"
    }
   ],
   "source": [
    "houses.sqft_lot.describe()"
   ]
  },
  {
   "cell_type": "code",
   "execution_count": 35,
   "metadata": {},
   "outputs": [
    {
     "name": "stdout",
     "output_type": "stream",
     "text": [
      "Média:  10292.538461538461\n",
      "Desvio padrão amostral:  16122.868507454057\n",
      "Limite inferior: 4501.8925\n",
      "Limite superior: 22931.1125\n"
     ]
    }
   ],
   "source": [
    "xbarra = np.mean(houses.sqft_lot)\n",
    "dp = np.std(houses.sqft_lot,ddof=1)\n",
    "\n",
    "print(\"Média: \", xbarra)\n",
    "print(\"Desvio padrão amostral: \", dp)\n",
    "n = 10\n",
    "xbarra_Boot = []\n",
    "\n",
    "B = 10000\n",
    "for i in range(B):\n",
    "    # Gera uma reamostra dos dados _com_ reposição\n",
    "    amostra = np.random.choice(houses.sqft_lot, size=n, replace=True)\n",
    "    xbarraB = np.mean(amostra)\n",
    "    xbarra_Boot.append(xbarraB)\n",
    "\n",
    "Lim_inf = np.percentile(xbarra_Boot, 2.5)\n",
    "Lim_sup = np.percentile(xbarra_Boot, 97.5)\n",
    "print('Limite inferior:', Lim_inf)\n",
    "print('Limite superior:', Lim_sup)"
   ]
  },
  {
   "cell_type": "code",
   "execution_count": 36,
   "metadata": {},
   "outputs": [
    {
     "data": {
      "text/plain": [
       "<matplotlib.axes._subplots.AxesSubplot at 0x24b83394550>"
      ]
     },
     "execution_count": 36,
     "metadata": {},
     "output_type": "execute_result"
    },
    {
     "data": {
      "image/png": "[encoded data removed]",
      "text/plain": [
       "<matplotlib.figure.Figure at 0x24b81829400>"
      ]
     },
     "metadata": {},
     "output_type": "display_data"
    }
   ],
   "source": [
    "pd.Series(xbarra_Boot).plot.hist(normed=True, legend=False)"
   ]
  },
  {
   "cell_type": "markdown",
   "metadata": {},
   "source": [
    "Nao descreve uma normal mas sim uma curva assimétrica a direita."
   ]
  },
  {
   "cell_type": "markdown",
   "metadata": {},
   "source": [
    "## Q4\n",
    "\n",
    "Faça uma regressão que usa `sqft_living` como variável explicativa  e `price` como resultado: "
   ]
  },
  {
   "cell_type": "markdown",
   "metadata": {},
   "source": [
    "**a).** De acordo com a notação que usamos em aula, quem é $\\hat{\\beta_0}$ e quem é $\\hat{\\beta_1}$ ?"
   ]
  },
  {
   "cell_type": "code",
   "execution_count": 37,
   "metadata": {},
   "outputs": [
    {
     "data": {
      "text/html": [
       "<table class=\"simpletable\">\n",
       "<caption>OLS Regression Results</caption>\n",
       "<tr>\n",
       "  <th>Dep. Variable:</th>          <td>price</td>      <th>  R-squared:         </th> <td>   0.472</td>\n",
       "</tr>\n",
       "<tr>\n",
       "  <th>Model:</th>                   <td>OLS</td>       <th>  Adj. R-squared:    </th> <td>   0.463</td>\n",
       "</tr>\n",
       "<tr>\n",
       "  <th>Method:</th>             <td>Least Squares</td>  <th>  F-statistic:       </th> <td>   56.21</td>\n",
       "</tr>\n",
       "<tr>\n",
       "  <th>Date:</th>             <td>Mon, 27 Nov 2017</td> <th>  Prob (F-statistic):</th> <td>2.70e-10</td>\n",
       "</tr>\n",
       "<tr>\n",
       "  <th>Time:</th>                 <td>18:51:53</td>     <th>  Log-Likelihood:    </th> <td> -892.24</td>\n",
       "</tr>\n",
       "<tr>\n",
       "  <th>No. Observations:</th>      <td>    65</td>      <th>  AIC:               </th> <td>   1788.</td>\n",
       "</tr>\n",
       "<tr>\n",
       "  <th>Df Residuals:</th>          <td>    63</td>      <th>  BIC:               </th> <td>   1793.</td>\n",
       "</tr>\n",
       "<tr>\n",
       "  <th>Df Model:</th>              <td>     1</td>      <th>                     </th>     <td> </td>   \n",
       "</tr>\n",
       "<tr>\n",
       "  <th>Covariance Type:</th>      <td>nonrobust</td>    <th>                     </th>     <td> </td>   \n",
       "</tr>\n",
       "</table>\n",
       "<table class=\"simpletable\">\n",
       "<tr>\n",
       "       <td></td>          <th>coef</th>     <th>std err</th>      <th>t</th>      <th>P>|t|</th> <th>[95.0% Conf. Int.]</th> \n",
       "</tr>\n",
       "<tr>\n",
       "  <th>const</th>       <td> 4.928e+04</td> <td> 7.44e+04</td> <td>    0.662</td> <td> 0.510</td> <td>-9.95e+04  1.98e+05</td>\n",
       "</tr>\n",
       "<tr>\n",
       "  <th>sqft_living</th> <td>  247.0810</td> <td>   32.954</td> <td>    7.498</td> <td> 0.000</td> <td>  181.227   312.935</td>\n",
       "</tr>\n",
       "</table>\n",
       "<table class=\"simpletable\">\n",
       "<tr>\n",
       "  <th>Omnibus:</th>       <td>12.716</td> <th>  Durbin-Watson:     </th> <td>   1.643</td>\n",
       "</tr>\n",
       "<tr>\n",
       "  <th>Prob(Omnibus):</th> <td> 0.002</td> <th>  Jarque-Bera (JB):  </th> <td>  13.432</td>\n",
       "</tr>\n",
       "<tr>\n",
       "  <th>Skew:</th>          <td> 0.973</td> <th>  Prob(JB):          </th> <td> 0.00121</td>\n",
       "</tr>\n",
       "<tr>\n",
       "  <th>Kurtosis:</th>      <td> 4.081</td> <th>  Cond. No.          </th> <td>6.03e+03</td>\n",
       "</tr>\n",
       "</table>"
      ],
      "text/plain": [
       "<class 'statsmodels.iolib.summary.Summary'>\n",
       "\"\"\"\n",
       "                            OLS Regression Results                            \n",
       "==============================================================================\n",
       "Dep. Variable:                  price   R-squared:                       0.472\n",
       "Model:                            OLS   Adj. R-squared:                  0.463\n",
       "Method:                 Least Squares   F-statistic:                     56.21\n",
       "Date:                Mon, 27 Nov 2017   Prob (F-statistic):           2.70e-10\n",
       "Time:                        18:51:53   Log-Likelihood:                -892.24\n",
       "No. Observations:                  65   AIC:                             1788.\n",
       "Df Residuals:                      63   BIC:                             1793.\n",
       "Df Model:                           1                                         \n",
       "Covariance Type:            nonrobust                                         \n",
       "===============================================================================\n",
       "                  coef    std err          t      P>|t|      [95.0% Conf. Int.]\n",
       "-------------------------------------------------------------------------------\n",
       "const        4.928e+04   7.44e+04      0.662      0.510     -9.95e+04  1.98e+05\n",
       "sqft_living   247.0810     32.954      7.498      0.000       181.227   312.935\n",
       "==============================================================================\n",
       "Omnibus:                       12.716   Durbin-Watson:                   1.643\n",
       "Prob(Omnibus):                  0.002   Jarque-Bera (JB):               13.432\n",
       "Skew:                           0.973   Prob(JB):                      0.00121\n",
       "Kurtosis:                       4.081   Cond. No.                     6.03e+03\n",
       "==============================================================================\n",
       "\n",
       "Warnings:\n",
       "[1] Standard Errors assume that the covariance matrix of the errors is correctly specified.\n",
       "[2] The condition number is large, 6.03e+03. This might indicate that there are\n",
       "strong multicollinearity or other numerical problems.\n",
       "\"\"\""
      ]
     },
     "execution_count": 37,
     "metadata": {},
     "output_type": "execute_result"
    }
   ],
   "source": [
    "import statsmodels.api as sm\n",
    "\n",
    "Y = houses['price']\n",
    "X = houses['sqft_living']\n",
    "X = sm.add_constant(X)\n",
    "model = sm.OLS(Y,X)\n",
    "results = model.fit()\n",
    "results.summary()"
   ]
  },
  {
   "cell_type": "markdown",
   "metadata": {},
   "source": [
    "Bo é 4.928e+04 e B1 é 247.0810\t"
   ]
  },
  {
   "cell_type": "markdown",
   "metadata": {},
   "source": [
    "**b).** Interprete o $R^2$ , os valores $P > |t|$ e também *Prob (F-statistic)*."
   ]
  },
  {
   "cell_type": "markdown",
   "metadata": {},
   "source": [
    "R2 é um coeficiente que dá a adequação a linha de tendência e 0.463 indica que há uma certa dispersão a essa linha. P>|t| é próximo de zero pois seu valor p é 0 e o coeficiente do parâmetro é zero, o valor p é menor que alfa. Prob (F-statistic)é a probabilidade de você obter um valor t tão alto ou superior ao valor observado quando a Hipótese Nula (o coeficiente β é igual a zero ou que não há relação) é verdadeira . Na regressão acima o Pr (> | t |) é baixo, os coeficientes são significativos (significativamente diferente de zero)."
   ]
  },
  {
   "cell_type": "markdown",
   "metadata": {},
   "source": [
    "http://r-statistics.co/Linear-Regression.html"
   ]
  },
  {
   "cell_type": "markdown",
   "metadata": {},
   "source": [
    "**c).** Escreva a equação que expressa `price` em função de `sqft_living`."
   ]
  },
  {
   "cell_type": "markdown",
   "metadata": {},
   "source": [
    "y= 4.928e+04 + 247.0810*X"
   ]
  },
  {
   "cell_type": "markdown",
   "metadata": {},
   "source": [
    "**d).** Faça um gráfico de dispersão de `price` em função de `sqft_living`, plote a equação que encontrou no item anterior no mesmo gráfico\n"
   ]
  },
  {
   "cell_type": "code",
   "execution_count": 38,
   "metadata": {},
   "outputs": [
    {
     "data": {
      "text/plain": [
       "[<matplotlib.lines.Line2D at 0x24b836c79e8>]"
      ]
     },
     "execution_count": 38,
     "metadata": {},
     "output_type": "execute_result"
    },
    {
     "data": {
      "image/png": "[encoded data removed]",
      "text/plain": [
       "<matplotlib.figure.Figure at 0x24b836c7940>"
      ]
     },
     "metadata": {},
     "output_type": "display_data"
    }
   ],
   "source": [
    "houses.plot.scatter('sqft_living','price');\n",
    "plt.plot((500,4500),(172.820,1000000),'b-')"
   ]
  },
  {
   "cell_type": "markdown",
   "metadata": {},
   "source": [
    "## Q5\n",
    "\n",
    "Faça agora uma regressão múltipla que tenta prever `price` (variável explicada) em função das variáveis `sqft_lot`  e `sqft_basement` (explicativa).\n",
    "\n",
    "Dica: inclua as duas colunas dentro de uma variável `X`, o restante não se altera em relação à regressão simples.\n",
    "\n",
    "\n",
    "```python\n",
    "Y = houses['price']\n",
    "X = houses.loc[:, ['sqft_lot', 'sqft_basement']]\n",
    "```\n",
    "\n",
    "Pede-se:\n",
    "\n",
    "**a).** Repita a intepretação dos valores $P > |t|$ e Prob (F-statistic) porém com duas variáveis.\n",
    "\n",
    "O que os valores encontrados implicam para a regressão?\n",
    "\n",
    "\n",
    "**b).** Escreva a função que foi encontrada pela regressão ( `price` em função de  `sqft_lot`  e `sqft_basement`)"
   ]
  },
  {
   "cell_type": "code",
   "execution_count": 40,
   "metadata": {},
   "outputs": [
    {
     "data": {
      "text/html": [
       "<table class=\"simpletable\">\n",
       "<caption>OLS Regression Results</caption>\n",
       "<tr>\n",
       "  <th>Dep. Variable:</th>          <td>price</td>      <th>  R-squared:         </th> <td>   0.029</td>\n",
       "</tr>\n",
       "<tr>\n",
       "  <th>Model:</th>                   <td>OLS</td>       <th>  Adj. R-squared:    </th> <td>  -0.003</td>\n",
       "</tr>\n",
       "<tr>\n",
       "  <th>Method:</th>             <td>Least Squares</td>  <th>  F-statistic:       </th> <td>  0.9115</td>\n",
       "</tr>\n",
       "<tr>\n",
       "  <th>Date:</th>             <td>Mon, 27 Nov 2017</td> <th>  Prob (F-statistic):</th>  <td> 0.407</td> \n",
       "</tr>\n",
       "<tr>\n",
       "  <th>Time:</th>                 <td>18:53:03</td>     <th>  Log-Likelihood:    </th> <td> -912.03</td>\n",
       "</tr>\n",
       "<tr>\n",
       "  <th>No. Observations:</th>      <td>    65</td>      <th>  AIC:               </th> <td>   1830.</td>\n",
       "</tr>\n",
       "<tr>\n",
       "  <th>Df Residuals:</th>          <td>    62</td>      <th>  BIC:               </th> <td>   1837.</td>\n",
       "</tr>\n",
       "<tr>\n",
       "  <th>Df Model:</th>              <td>     2</td>      <th>                     </th>     <td> </td>   \n",
       "</tr>\n",
       "<tr>\n",
       "  <th>Covariance Type:</th>      <td>nonrobust</td>    <th>                     </th>     <td> </td>   \n",
       "</tr>\n",
       "</table>\n",
       "<table class=\"simpletable\">\n",
       "<tr>\n",
       "        <td></td>           <th>coef</th>     <th>std err</th>      <th>t</th>      <th>P>|t|</th> <th>[95.0% Conf. Int.]</th> \n",
       "</tr>\n",
       "<tr>\n",
       "  <th>const</th>         <td> 5.237e+05</td> <td> 5.01e+04</td> <td>   10.462</td> <td> 0.000</td> <td> 4.24e+05  6.24e+05</td>\n",
       "</tr>\n",
       "<tr>\n",
       "  <th>sqft_lot</th>      <td>    2.7668</td> <td>    2.383</td> <td>    1.161</td> <td> 0.250</td> <td>   -1.997     7.531</td>\n",
       "</tr>\n",
       "<tr>\n",
       "  <th>sqft_basement</th> <td>   68.6891</td> <td>  101.802</td> <td>    0.675</td> <td> 0.502</td> <td> -134.810   272.188</td>\n",
       "</tr>\n",
       "</table>\n",
       "<table class=\"simpletable\">\n",
       "<tr>\n",
       "  <th>Omnibus:</th>       <td>24.116</td> <th>  Durbin-Watson:     </th> <td>   1.833</td>\n",
       "</tr>\n",
       "<tr>\n",
       "  <th>Prob(Omnibus):</th> <td> 0.000</td> <th>  Jarque-Bera (JB):  </th> <td>  38.221</td>\n",
       "</tr>\n",
       "<tr>\n",
       "  <th>Skew:</th>          <td> 1.369</td> <th>  Prob(JB):          </th> <td>5.02e-09</td>\n",
       "</tr>\n",
       "<tr>\n",
       "  <th>Kurtosis:</th>      <td> 5.572</td> <th>  Cond. No.          </th> <td>2.50e+04</td>\n",
       "</tr>\n",
       "</table>"
      ],
      "text/plain": [
       "<class 'statsmodels.iolib.summary.Summary'>\n",
       "\"\"\"\n",
       "                            OLS Regression Results                            \n",
       "==============================================================================\n",
       "Dep. Variable:                  price   R-squared:                       0.029\n",
       "Model:                            OLS   Adj. R-squared:                 -0.003\n",
       "Method:                 Least Squares   F-statistic:                    0.9115\n",
       "Date:                Mon, 27 Nov 2017   Prob (F-statistic):              0.407\n",
       "Time:                        18:53:03   Log-Likelihood:                -912.03\n",
       "No. Observations:                  65   AIC:                             1830.\n",
       "Df Residuals:                      62   BIC:                             1837.\n",
       "Df Model:                           2                                         \n",
       "Covariance Type:            nonrobust                                         \n",
       "=================================================================================\n",
       "                    coef    std err          t      P>|t|      [95.0% Conf. Int.]\n",
       "---------------------------------------------------------------------------------\n",
       "const          5.237e+05   5.01e+04     10.462      0.000      4.24e+05  6.24e+05\n",
       "sqft_lot          2.7668      2.383      1.161      0.250        -1.997     7.531\n",
       "sqft_basement    68.6891    101.802      0.675      0.502      -134.810   272.188\n",
       "==============================================================================\n",
       "Omnibus:                       24.116   Durbin-Watson:                   1.833\n",
       "Prob(Omnibus):                  0.000   Jarque-Bera (JB):               38.221\n",
       "Skew:                           1.369   Prob(JB):                     5.02e-09\n",
       "Kurtosis:                       5.572   Cond. No.                     2.50e+04\n",
       "==============================================================================\n",
       "\n",
       "Warnings:\n",
       "[1] Standard Errors assume that the covariance matrix of the errors is correctly specified.\n",
       "[2] The condition number is large, 2.5e+04. This might indicate that there are\n",
       "strong multicollinearity or other numerical problems.\n",
       "\"\"\""
      ]
     },
     "execution_count": 40,
     "metadata": {},
     "output_type": "execute_result"
    }
   ],
   "source": [
    "import statsmodels.api as sm\n",
    "\n",
    "Y = houses['price']\n",
    "X = houses.loc[:, ['sqft_lot', 'sqft_basement']]\n",
    "X = sm.add_constant(X)\n",
    "model = sm.OLS(Y,X)\n",
    "results = model.fit()\n",
    "results.summary()"
   ]
  },
  {
   "cell_type": "markdown",
   "metadata": {
    "collapsed": true
   },
   "source": [
    "O Pr (> | t |) é mais alto que o anterior, os coeficientes são significativos mas não tanto quanto aos anteriores. O F-Statistic é a diferença do valor estimado ao hipotetizado sobre o desvio padrão. Quanto menor o F-statistic, maior a chance de proximidade dos valores da variável( estimado e hipotetizado) e maior a probabilidade."
   ]
  },
  {
   "cell_type": "markdown",
   "metadata": {},
   "source": [
    "y= 5.237e+05 + 2.7668 x X1 + 68.6891 x X2"
   ]
  },
  {
   "cell_type": "code",
   "execution_count": null,
   "metadata": {
    "collapsed": true
   },
   "outputs": [],
   "source": []
  }
 ],
 "metadata": {
  "kernelspec": {
   "display_name": "Python 3",
   "language": "python",
   "name": "python3"
  },
  "language_info": {
   "codemirror_mode": {
    "name": "ipython",
    "version": 3
   },
   "file_extension": ".py",
   "mimetype": "text/x-python",
   "name": "python",
   "nbconvert_exporter": "python",
   "pygments_lexer": "ipython3",
   "version": "3.6.0"
  }
 },
 "nbformat": 4,
 "nbformat_minor": 2
}
