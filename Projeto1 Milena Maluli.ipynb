{
 "cells": [
  {
   "cell_type": "markdown",
   "metadata": {},
   "source": [
    "___\n",
    "# Ciência dos Dados - PROJETO 1"
   ]
  },
  {
   "cell_type": "markdown",
   "metadata": {},
   "source": [
    "## Milena Maluli"
   ]
  },
  {
   "cell_type": "markdown",
   "metadata": {},
   "source": [
    "## Segurança Alimentar no Brasil"
   ]
  },
  {
   "cell_type": "markdown",
   "metadata": {},
   "source": [
    "___\n",
    "## Introdução\n",
    "\n",
    "Esse estudo pretende analisar a relação da casa dos brasileiros com sua segurança alimentar. O material, a ocupação,a  presença de geladeira e água canalizada são alguns aspectos da moradia que estão sendo analizados.\n",
    "Alêm deles, é visto também a renda desses moradores e se eles ja deixaram de comprar comida por falta de alimento.\n",
    "\n",
    "Para os valores de renda, vi as rendas menores que 500000, e o valor máximo era de 94669, assim, determinei como limite o 100000\n",
    "\n",
    "\n",
    "http://g1.globo.com/bemestar/noticia/2014/12/72-milhoes-sofrem-com-inseguranca-alimentar-grave-no-pais-diz-pnad-2013.html\n"
   ]
  },
  {
   "cell_type": "markdown",
   "metadata": {},
   "source": [
    "___\n",
    "## Análise e Resultados"
   ]
  },
  {
   "cell_type": "code",
   "execution_count": 284,
   "metadata": {
    "collapsed": true
   },
   "outputs": [],
   "source": [
    "%matplotlib inline\n",
    "import pandas as pd\n",
    "import matplotlib.pyplot as plt\n",
    "import numpy as np\n",
    "import os\n",
    "from numpy import arange"
   ]
  },
  {
   "cell_type": "code",
   "execution_count": 285,
   "metadata": {},
   "outputs": [
    {
     "name": "stdout",
     "output_type": "stream",
     "text": [
      "Esperamos trabalhar no diretório\n",
      "C:\\Users\\milen\\OneDrive\\Documentos\\2o SEMESTRE\\CDD\\CD\n"
     ]
    }
   ],
   "source": [
    "print('Esperamos trabalhar no diretório')\n",
    "print(os.getcwd())"
   ]
  },
  {
   "cell_type": "code",
   "execution_count": 286,
   "metadata": {},
   "outputs": [],
   "source": [
    "#Se usar o arquivo descompactado\n",
    "#pd.read_csv('DOM2009.csv',sep=',')\n",
    "\n",
    "#Se usar o arquivo compactado como está no dropbox púbico\n",
    "dados=pd.read_csv('DOM2009csv.zip', compression='zip', header=0, sep=',', quotechar='\"')\n",
    "\n",
    "dados2=pd.read_csv('DOM2013csv.zip', compression='zip', header=0, sep=',', quotechar='\"')"
   ]
  },
  {
   "cell_type": "code",
   "execution_count": 287,
   "metadata": {
    "collapsed": true
   },
   "outputs": [],
   "source": [
    "#2009\n",
    "dados.V4621 = dados.V4621.astype('float')\n",
    "\n",
    "#dados.V0202 = dados.V0202.astype('category')\n",
    "dados.V2117 = dados.V2117.astype('category')\n",
    "\n",
    "dados.V2132 = dados.V2132.astype('category')\n",
    "\n",
    "dados.V0203 = dados.V0203.astype('category')\n",
    "\n",
    "dados.V0221 = dados.V0221.astype('category')\n",
    "\n",
    "dados.V0207 = dados.V0207.astype('category')\n",
    "\n",
    "dados.V2105 = dados.V2105.astype('category')\n",
    "\n",
    "dados.V0228 = dados.V0228.astype('category')"
   ]
  },
  {
   "cell_type": "code",
   "execution_count": 288,
   "metadata": {
    "collapsed": true
   },
   "outputs": [],
   "source": [
    "#2013\n",
    "\n",
    "dados2.V4621 = dados.V4621.astype('float')\n",
    "\n",
    "#dados.V0202 = dados.V0202.astype('category')\n",
    "dados2.V2117 = dados.V2117.astype('category')\n",
    "\n",
    "dados2.V2132 = dados.V2132.astype('category')\n",
    "\n",
    "dados2.V0203 = dados.V0203.astype('category')\n",
    "\n",
    "dados2.V0221 = dados.V0221.astype('category')\n",
    "\n",
    "dados2.V0207 = dados.V0207.astype('category')\n",
    "\n",
    "dados2.V2105 = dados.V2105.astype('category')\n",
    "\n",
    "dados2.V0228 = dados.V0228.astype('category')"
   ]
  },
  {
   "cell_type": "code",
   "execution_count": 289,
   "metadata": {
    "collapsed": true
   },
   "outputs": [],
   "source": [
    "#2009\n",
    "\n",
    "#dados.V0202.cat.categories = (['Casa', 'Ap','Dom'])\n",
    "dados.V2117.cat.categories = (['Sim', 'Nao'])\n",
    "dados.V2132.cat.categories = (['Sim', 'Nao'])\n",
    "dados.V0203.cat.categories = (['Alven', 'Mad Aparelhada', 'Taipa','Mad Aproveitada','Palha','Outro Material'])\n",
    "dados.V0221.cat.categories = (['Sim', 'Nao'])\n",
    "dados.V0207.cat.categories = (['Próprio PAGO', 'Próprio', 'Alugado','Cedido por empregador','Cedido','Outro'])\n",
    "dados.V2105.cat.categories = (['Sim', 'Nao'])\n",
    "dados.V0228.cat.categories = (['Sim, 2portas', 'Sim, 1porta','Nao'])\n",
    "dados.V2117.cat.categories = (['Sim', 'Nao'])\n",
    "#dados.V2132.cat.categories = (['Sim', 'Nao']) so p quem tem menos de 17, tirei"
   ]
  },
  {
   "cell_type": "code",
   "execution_count": 290,
   "metadata": {
    "collapsed": true
   },
   "outputs": [],
   "source": [
    "#2013\n",
    "\n",
    "#dados.V0202.cat.categories = (['Casa', 'Ap','Dom'])\n",
    "dados2.V2117.cat.categories = (['Sim', 'Nao'])\n",
    "dados2.V2132.cat.categories = (['Sim', 'Nao'])\n",
    "dados2.V0203.cat.categories = (['Alven', 'Mad Aparelhada', 'Taipa','Mad Aproveitada','Palha','Outro Material'])\n",
    "dados2.V0221.cat.categories = (['Sim', 'Nao'])\n",
    "dados2.V0207.cat.categories = (['Próprio PAGO', 'Próprio', 'Alugado','Cedido por empregador','Cedido','Outro'])\n",
    "dados2.V2105.cat.categories = (['Sim', 'Nao'])\n",
    "dados2.V0228.cat.categories = (['Sim, 2portas', 'Sim, 1porta','Nao'])\n",
    "dados2.V2117.cat.categories = (['Sim', 'Nao'])\n",
    "#dados.V2132.cat.categories = (['Sim', 'Nao']) so p quem tem menos de 17, tirei"
   ]
  },
  {
   "cell_type": "code",
   "execution_count": 291,
   "metadata": {
    "collapsed": true
   },
   "outputs": [],
   "source": [
    "\n",
    "#dados.loc[(dados.V2117=='Sim') & (dados.V2132=='Sim'),'SENTIUFOME'] = 'Sim'\n",
    "#dados.loc[(dados.V2117=='Nao') | (dados.V2132=='Nao'),'SENTIUFOME'] = 'Nao'"
   ]
  },
  {
   "cell_type": "code",
   "execution_count": 292,
   "metadata": {
    "collapsed": true
   },
   "outputs": [],
   "source": [
    "d= dados.loc[:,[\"V4621\",\"V0207\",\"V0203\",\"V0221\",\"V0228\",\"V2117\",\"V2105\"]]\n",
    "d2=dados2.loc[:,[\"V4621\",\"V0207\",\"V0203\",\"V0221\",\"V0228\",\"V2117\",\"V2105\"]]"
   ]
  },
  {
   "cell_type": "code",
   "execution_count": 293,
   "metadata": {},
   "outputs": [
    {
     "name": "stdout",
     "output_type": "stream",
     "text": [
      "2009\n"
     ]
    },
    {
     "data": {
      "text/html": [
       "<div>\n",
       "<table border=\"1\" class=\"dataframe\">\n",
       "  <thead>\n",
       "    <tr style=\"text-align: right;\">\n",
       "      <th></th>\n",
       "      <th>RENDA</th>\n",
       "      <th>OCUPAÇÃO</th>\n",
       "      <th>MATERIAL</th>\n",
       "      <th>AGUA</th>\n",
       "      <th>GELADEIRA</th>\n",
       "      <th>SENTIUFOME</th>\n",
       "      <th>FALTAAL</th>\n",
       "    </tr>\n",
       "  </thead>\n",
       "  <tbody>\n",
       "    <tr>\n",
       "      <th>2</th>\n",
       "      <td>118.0</td>\n",
       "      <td>Próprio PAGO</td>\n",
       "      <td>Mad Aproveitada</td>\n",
       "      <td>Sim</td>\n",
       "      <td>Sim, 1porta</td>\n",
       "      <td>Sim</td>\n",
       "      <td>Sim</td>\n",
       "    </tr>\n",
       "    <tr>\n",
       "      <th>3</th>\n",
       "      <td>1053.0</td>\n",
       "      <td>Próprio PAGO</td>\n",
       "      <td>Alven</td>\n",
       "      <td>Sim</td>\n",
       "      <td>Sim, 2portas</td>\n",
       "      <td>NaN</td>\n",
       "      <td>Nao</td>\n",
       "    </tr>\n",
       "    <tr>\n",
       "      <th>4</th>\n",
       "      <td>930.0</td>\n",
       "      <td>Próprio PAGO</td>\n",
       "      <td>Alven</td>\n",
       "      <td>Sim</td>\n",
       "      <td>Sim, 1porta</td>\n",
       "      <td>NaN</td>\n",
       "      <td>Nao</td>\n",
       "    </tr>\n",
       "    <tr>\n",
       "      <th>6</th>\n",
       "      <td>232.0</td>\n",
       "      <td>Próprio PAGO</td>\n",
       "      <td>Mad Aparelhada</td>\n",
       "      <td>Sim</td>\n",
       "      <td>Sim, 1porta</td>\n",
       "      <td>NaN</td>\n",
       "      <td>Nao</td>\n",
       "    </tr>\n",
       "    <tr>\n",
       "      <th>7</th>\n",
       "      <td>248.0</td>\n",
       "      <td>Próprio PAGO</td>\n",
       "      <td>Mad Aparelhada</td>\n",
       "      <td>Sim</td>\n",
       "      <td>Sim, 2portas</td>\n",
       "      <td>NaN</td>\n",
       "      <td>Nao</td>\n",
       "    </tr>\n",
       "  </tbody>\n",
       "</table>\n",
       "</div>"
      ],
      "text/plain": [
       "    RENDA      OCUPAÇÃO         MATERIAL AGUA     GELADEIRA SENTIUFOME FALTAAL\n",
       "2   118.0  Próprio PAGO  Mad Aproveitada  Sim   Sim, 1porta        Sim     Sim\n",
       "3  1053.0  Próprio PAGO            Alven  Sim  Sim, 2portas        NaN     Nao\n",
       "4   930.0  Próprio PAGO            Alven  Sim   Sim, 1porta        NaN     Nao\n",
       "6   232.0  Próprio PAGO   Mad Aparelhada  Sim   Sim, 1porta        NaN     Nao\n",
       "7   248.0  Próprio PAGO   Mad Aparelhada  Sim  Sim, 2portas        NaN     Nao"
      ]
     },
     "execution_count": 293,
     "metadata": {},
     "output_type": "execute_result"
    }
   ],
   "source": [
    "print('2009')\n",
    "d.columns = ['RENDA','OCUPAÇÃO','MATERIAL', 'AGUA', 'GELADEIRA','SENTIUFOME','FALTAAL']\n",
    "d=d.dropna(subset=['RENDA'])\n",
    "d=d[d.RENDA<100000]\n",
    "d.head()"
   ]
  },
  {
   "cell_type": "code",
   "execution_count": 294,
   "metadata": {},
   "outputs": [
    {
     "name": "stdout",
     "output_type": "stream",
     "text": [
      "2013\n"
     ]
    },
    {
     "data": {
      "text/html": [
       "<div>\n",
       "<table border=\"1\" class=\"dataframe\">\n",
       "  <thead>\n",
       "    <tr style=\"text-align: right;\">\n",
       "      <th></th>\n",
       "      <th>RENDA</th>\n",
       "      <th>OCUPAÇÃO</th>\n",
       "      <th>MATERIAL</th>\n",
       "      <th>AGUA</th>\n",
       "      <th>GELADEIRA</th>\n",
       "      <th>SENTIUFOME</th>\n",
       "      <th>FALTAAL</th>\n",
       "    </tr>\n",
       "  </thead>\n",
       "  <tbody>\n",
       "    <tr>\n",
       "      <th>2</th>\n",
       "      <td>118.0</td>\n",
       "      <td>Próprio PAGO</td>\n",
       "      <td>Mad Aproveitada</td>\n",
       "      <td>Sim</td>\n",
       "      <td>Sim, 1porta</td>\n",
       "      <td>Sim</td>\n",
       "      <td>Sim</td>\n",
       "    </tr>\n",
       "    <tr>\n",
       "      <th>3</th>\n",
       "      <td>1053.0</td>\n",
       "      <td>Próprio PAGO</td>\n",
       "      <td>Alven</td>\n",
       "      <td>Sim</td>\n",
       "      <td>Sim, 2portas</td>\n",
       "      <td>NaN</td>\n",
       "      <td>Nao</td>\n",
       "    </tr>\n",
       "    <tr>\n",
       "      <th>4</th>\n",
       "      <td>930.0</td>\n",
       "      <td>Próprio PAGO</td>\n",
       "      <td>Alven</td>\n",
       "      <td>Sim</td>\n",
       "      <td>Sim, 1porta</td>\n",
       "      <td>NaN</td>\n",
       "      <td>Nao</td>\n",
       "    </tr>\n",
       "    <tr>\n",
       "      <th>6</th>\n",
       "      <td>232.0</td>\n",
       "      <td>Próprio PAGO</td>\n",
       "      <td>Mad Aparelhada</td>\n",
       "      <td>Sim</td>\n",
       "      <td>Sim, 1porta</td>\n",
       "      <td>NaN</td>\n",
       "      <td>Nao</td>\n",
       "    </tr>\n",
       "    <tr>\n",
       "      <th>7</th>\n",
       "      <td>248.0</td>\n",
       "      <td>Próprio PAGO</td>\n",
       "      <td>Mad Aparelhada</td>\n",
       "      <td>Sim</td>\n",
       "      <td>Sim, 2portas</td>\n",
       "      <td>NaN</td>\n",
       "      <td>Nao</td>\n",
       "    </tr>\n",
       "  </tbody>\n",
       "</table>\n",
       "</div>"
      ],
      "text/plain": [
       "    RENDA      OCUPAÇÃO         MATERIAL AGUA     GELADEIRA SENTIUFOME FALTAAL\n",
       "2   118.0  Próprio PAGO  Mad Aproveitada  Sim   Sim, 1porta        Sim     Sim\n",
       "3  1053.0  Próprio PAGO            Alven  Sim  Sim, 2portas        NaN     Nao\n",
       "4   930.0  Próprio PAGO            Alven  Sim   Sim, 1porta        NaN     Nao\n",
       "6   232.0  Próprio PAGO   Mad Aparelhada  Sim   Sim, 1porta        NaN     Nao\n",
       "7   248.0  Próprio PAGO   Mad Aparelhada  Sim  Sim, 2portas        NaN     Nao"
      ]
     },
     "execution_count": 294,
     "metadata": {},
     "output_type": "execute_result"
    }
   ],
   "source": [
    "print('2013')\n",
    "d2.columns = ['RENDA','OCUPAÇÃO','MATERIAL', 'AGUA', 'GELADEIRA','SENTIUFOME','FALTAAL']\n",
    "d2=d2.dropna(subset=['RENDA'])\n",
    "d2=d2[d2.RENDA<100000]\n",
    "d2.head()"
   ]
  },
  {
   "cell_type": "code",
   "execution_count": 295,
   "metadata": {
    "collapsed": true
   },
   "outputs": [],
   "source": [
    "d.to_csv('DataFramee1.csv', sep=';')"
   ]
  },
  {
   "cell_type": "markdown",
   "metadata": {},
   "source": [
    "\n",
    "### MATERIAL DA CASA X FALTA DA ALIMENTO POR DINHEIRO\n"
   ]
  },
  {
   "cell_type": "markdown",
   "metadata": {},
   "source": [
    "Qual a relação do material da casa e a quantidade de pessoas que tem falta de alimento por não poder comprar? \n",
    "Tem casas feitas de material mais caro mas que mesmo assim sente falta por não ter dinheiro?\n",
    "Qual o material de casa em que mais ocorre a falta por dinheiro?"
   ]
  },
  {
   "cell_type": "code",
   "execution_count": 311,
   "metadata": {},
   "outputs": [
    {
     "name": "stdout",
     "output_type": "stream",
     "text": [
      "Falta al por $         Sim        Nao\n",
      "MATERIAL                             \n",
      "Alven            16.683853  83.316147\n",
      "Mad Aparelhada   20.882921  79.117079\n",
      "Taipa            53.185328  46.814672\n",
      "Mad Aproveitada  37.795276  62.204724\n",
      "Palha            38.888889  61.111111\n",
      "Outro Material   34.391534  65.608466\n",
      "All              17.532042  82.467958\n"
     ]
    },
    {
     "data": {
      "image/png": "[encoded data removed]",
      "text/plain": [
       "<matplotlib.figure.Figure at 0x23e593f5048>"
      ]
     },
     "metadata": {},
     "output_type": "display_data"
    }
   ],
   "source": [
    "ctrf= (pd.crosstab(d.MATERIAL,d.FALTAAL,margins=True,rownames=['MATERIAL'], colnames=['Falta al por $'], normalize='index')*100)\n",
    "print(ctrf)\n",
    "ctrf.plot(kind='bar', stacked=True)\n",
    "plt.title('Material de construção das casas em relação a \\n falta de alimentação por não ter dinheiro em 2009')\n",
    "\n",
    "#plt.subplot(131) numero de linhas, colunas, e posição do gráfico. ajuda na comparação\n",
    "\n",
    "ax = plt.subplot(111)\n",
    "box = ax.get_position()\n",
    "ax.set_position([box.x0, box.y0, box.width * 0.8, box.height])\n",
    "ax.legend(loc='center left', bbox_to_anchor=(1, 0.5))\n",
    "plt.show()\n"
   ]
  },
  {
   "cell_type": "code",
   "execution_count": 312,
   "metadata": {},
   "outputs": [
    {
     "name": "stdout",
     "output_type": "stream",
     "text": [
      "Falta al por $         Sim        Nao\n",
      "MATERIAL                             \n",
      "Alven            16.857238  83.142762\n",
      "Mad Aparelhada   20.904645  79.095355\n",
      "Taipa            53.236715  46.763285\n",
      "Mad Aproveitada  37.634409  62.365591\n",
      "Palha            38.888889  61.111111\n",
      "Outro Material   34.574468  65.425532\n",
      "All              17.715338  82.284662\n"
     ]
    },
    {
     "data": {
      "image/png": "[encoded data removed]",
      "text/plain": [
       "<matplotlib.figure.Figure at 0x23e51407e10>"
      ]
     },
     "metadata": {},
     "output_type": "display_data"
    }
   ],
   "source": [
    "ctrf2= (pd.crosstab(d2.MATERIAL,d2.FALTAAL,margins=True,rownames=['MATERIAL'], colnames=['Falta al por $'], normalize='index')*100)\n",
    "print(ctrf2)\n",
    "ctrf2.plot(kind='bar', stacked=True)\n",
    "plt.title('Material de construção das casas em relação a \\n falta de alimentação por não ter dinheiro em 2013')\n",
    "\n",
    "#plt.subplot(131) numero de linhas, colunas, e posição do gráfico. ajuda na comparação\n",
    "\n",
    "ax = plt.subplot(111)\n",
    "box = ax.get_position()\n",
    "ax.set_position([box.x0, box.y0, box.width * 0.8, box.height])\n",
    "ax.legend(loc='center left', bbox_to_anchor=(1, 0.5))\n",
    "plt.show()\n"
   ]
  },
  {
   "cell_type": "markdown",
   "metadata": {},
   "source": [
    "### RENDA X FALTA DE ALIMENTO POR DINHEIRO"
   ]
  },
  {
   "cell_type": "markdown",
   "metadata": {},
   "source": [
    "Relação da Renda e falta de alimento por dinheiro.\n",
    "Quanto maior a renda, menor a falta de alimento por dinheiro?"
   ]
  },
  {
   "cell_type": "code",
   "execution_count": 313,
   "metadata": {},
   "outputs": [
    {
     "data": {
      "text/plain": [
       "<matplotlib.text.Text at 0x23e5ad6d048>"
      ]
     },
     "execution_count": 313,
     "metadata": {},
     "output_type": "execute_result"
    },
    {
     "data": {
      "image/png": "[encoded data removed]",
      "text/plain": [
       "<matplotlib.figure.Figure at 0x23e5053b4a8>"
      ]
     },
     "metadata": {},
     "output_type": "display_data"
    }
   ],
   "source": [
    "faixa = arange(0,100000,250)\n",
    "\n",
    "plt.subplot(121)\n",
    "plot = d.RENDA[d.FALTAAL=='Sim'].plot.hist(bins=faixa,title='HISTOGRAMA FALTAAL',figsize=(10,5), normed=1, alpha=0.5)\n",
    "plt.ylabel('Densidade')\n",
    "plt.xlabel('Renda')\n",
    "plt.ylim(0,0.0025)\n",
    "plt.xlim(0,10000)\n",
    "plt.title('Falta de alimento por não ter dinheiro \\n em relação a renda em 2009')\n",
    "\n",
    "plt.subplot(122)\n",
    "plot = d.RENDA[d.FALTAAL=='Nao'].plot.hist(bins=faixa,title='HISTOGRAMA SEM FALTAAL',figsize=(10,5), normed=1, alpha=0.5)\n",
    "plt.ylabel('Densidade')\n",
    "plt.xlabel('Renda')\n",
    "plt.ylim(0,0.0025)\n",
    "plt.xlim(0,10000)\n",
    "plt.title('Não existiu falta de alimento por não ter dinheiro \\n em relação a renda em 2009')"
   ]
  },
  {
   "cell_type": "code",
   "execution_count": 315,
   "metadata": {},
   "outputs": [
    {
     "data": {
      "text/plain": [
       "<matplotlib.text.Text at 0x23e51712e10>"
      ]
     },
     "execution_count": 315,
     "metadata": {},
     "output_type": "execute_result"
    },
    {
     "data": {
      "image/png": "[encoded data removed]",
      "text/plain": [
       "<matplotlib.figure.Figure at 0x23e5a700a20>"
      ]
     },
     "metadata": {},
     "output_type": "display_data"
    }
   ],
   "source": [
    "faixa = arange(0,100000,250)\n",
    "\n",
    "plt.subplot(121)\n",
    "plot = d2.RENDA[d2.FALTAAL=='Sim'].plot.hist(bins=faixa,title='HISTOGRAMA FALTAAL',figsize=(10,5), normed=1, alpha=0.5)\n",
    "plt.ylabel('Densidade')\n",
    "plt.xlabel('Renda')\n",
    "plt.ylim(0,0.0025)\n",
    "plt.xlim(0,10000)\n",
    "plt.title('Falta de alimento por não ter dinheiro \\n em relação a renda em 2013')\n",
    "\n",
    "plt.subplot(122)\n",
    "plot = d2.RENDA[d2.FALTAAL=='Nao'].plot.hist(bins=faixa,title='HISTOGRAMA SEM FALTAAL',figsize=(10,5), normed=1, alpha=0.5)\n",
    "plt.ylabel('Densidade')\n",
    "plt.xlabel('Renda')\n",
    "plt.ylim(0,0.0025)\n",
    "plt.xlim(0,10000)\n",
    "plt.title('Não existiu falta de alimento por não ter dinheiro \\n em relação a renda em 2013')"
   ]
  },
  {
   "cell_type": "markdown",
   "metadata": {},
   "source": [
    "### GELADEIRA X FOME"
   ]
  },
  {
   "cell_type": "markdown",
   "metadata": {},
   "source": [
    "As pessoas que tem geladeira passam fome, mais das que não tem?"
   ]
  },
  {
   "cell_type": "code",
   "execution_count": 309,
   "metadata": {},
   "outputs": [
    {
     "name": "stdout",
     "output_type": "stream",
     "text": [
      "SENTIUFOME          Sim        Nao\n",
      "GELADEIRA                         \n",
      "Sim, 2portas  10.628183  89.371817\n",
      "Sim, 1porta   18.779499  81.220501\n",
      "Nao           36.317973  63.682027\n",
      "All           19.638724  80.361276\n"
     ]
    },
    {
     "data": {
      "image/png": "[encoded data removed]",
      "text/plain": [
       "<matplotlib.figure.Figure at 0x23e5c1531d0>"
      ]
     },
     "metadata": {},
     "output_type": "display_data"
    }
   ],
   "source": [
    "ctgf= (pd.crosstab(d.GELADEIRA,d.SENTIUFOME,margins=True,rownames=['GELADEIRA'], colnames=['SENTIUFOME'], normalize='index')*100)\n",
    "print(ctgf)\n",
    "ctgf.plot(kind='bar', stacked=True)\n",
    "plt.title('Pessoas que sentiram fome em relação a \\n quantidade de geladeiras em 2009')\n",
    "\n",
    "#plt.subplot(131) numero de linhas, colunas, e posição do gráfico. ajuda na comparação\n",
    "\n",
    "ax = plt.subplot(111)\n",
    "box = ax.get_position()\n",
    "ax.set_position([box.x0, box.y0, box.width * 0.8, box.height])\n",
    "ax.legend(loc='center left', bbox_to_anchor=(1, 0.5))\n",
    "plt.show()\n"
   ]
  },
  {
   "cell_type": "code",
   "execution_count": 310,
   "metadata": {},
   "outputs": [
    {
     "name": "stdout",
     "output_type": "stream",
     "text": [
      "SENTIUFOME          Sim        Nao\n",
      "GELADEIRA                         \n",
      "Sim, 2portas  10.723813  89.276187\n",
      "Sim, 1porta   18.856949  81.143051\n",
      "Nao           36.371662  63.628338\n",
      "All           19.775029  80.224971\n"
     ]
    },
    {
     "data": {
      "image/png": "[encoded data removed]",
      "text/plain": [
       "<matplotlib.figure.Figure at 0x23e505d2ba8>"
      ]
     },
     "metadata": {},
     "output_type": "display_data"
    }
   ],
   "source": [
    "ctgf2= (pd.crosstab(d2.GELADEIRA,d2.SENTIUFOME,margins=True,rownames=['GELADEIRA'], colnames=['SENTIUFOME'], normalize='index')*100)\n",
    "print(ctgf2)\n",
    "ctgf2.plot(kind='bar', stacked=True)\n",
    "plt.title('Pessoas que sentiram fome em relação a \\n quantidade de geladeiras em 2013')\n",
    "\n",
    "#plt.subplot(131) numero de linhas, colunas, e posição do gráfico. ajuda na comparação\n",
    "\n",
    "ax = plt.subplot(111)\n",
    "box = ax.get_position()\n",
    "ax.set_position([box.x0, box.y0, box.width * 0.8, box.height])\n",
    "ax.legend(loc='center left', bbox_to_anchor=(1, 0.5))\n",
    "plt.show()\n"
   ]
  },
  {
   "cell_type": "markdown",
   "metadata": {},
   "source": [
    "###  ÁGUA CANALIZADA X FOME"
   ]
  },
  {
   "cell_type": "markdown",
   "metadata": {},
   "source": [
    "retirar fome"
   ]
  },
  {
   "cell_type": "markdown",
   "metadata": {},
   "source": [
    "### OCUPAÇÃO X RENDA"
   ]
  },
  {
   "cell_type": "markdown",
   "metadata": {},
   "source": [
    "Como elas se relacionam? "
   ]
  },
  {
   "cell_type": "code",
   "execution_count": 317,
   "metadata": {},
   "outputs": [
    {
     "data": {
      "text/plain": [
       "(0, 10000)"
      ]
     },
     "execution_count": 317,
     "metadata": {},
     "output_type": "execute_result"
    },
    {
     "data": {
      "image/png": "[encoded data removed]",
      "text/plain": [
       "<matplotlib.figure.Figure at 0x23e58e69dd8>"
      ]
     },
     "metadata": {},
     "output_type": "display_data"
    }
   ],
   "source": [
    "faixa = arange(0,100000,250)\n",
    "\n",
    "plt.subplot(151)\n",
    "plot = d.RENDA[d.OCUPAÇÃO=='Próprio PAGO'].plot.hist(bins=faixa,title='Proprietario pago em 2009',figsize=(10,5), normed=1, alpha=0.5)\n",
    "plt.ylabel('Densidade')\n",
    "plt.xlabel('Renda')\n",
    "plt.ylim(0,0.002)\n",
    "plt.xlim(0,10000)\n",
    "\n",
    "plt.subplot(152)\n",
    "plot = d.RENDA[d.OCUPAÇÃO=='Próprio'].plot.hist(bins=faixa,title='Próprio  em 2009',figsize=(10,5), normed=1, alpha=0.5)\n",
    "plt.ylabel('Densidade')\n",
    "plt.xlabel('Renda')\n",
    "plt.ylim(0,0.002)\n",
    "plt.xlim(0,10000)\n",
    "\n",
    "plt.subplot(153)\n",
    "plot = d.RENDA[d.OCUPAÇÃO=='Alugado'].plot.hist(bins=faixa,title='Alugado em 2009',figsize=(10,5), normed=1, alpha=0.5)\n",
    "plt.ylabel('Densidade')\n",
    "plt.xlabel('Renda')\n",
    "plt.ylim(0,0.002)\n",
    "plt.xlim(0,10000)\n",
    "\n",
    "plt.subplot(154)\n",
    "plot = d.RENDA[d.OCUPAÇÃO=='Cedido por empregador'].plot.hist(bins=faixa,title='Cedido por empregador em 2009',figsize=(10,5), normed=1, alpha=0.5)\n",
    "plt.ylabel('Densidade')\n",
    "plt.xlabel('Renda')\n",
    "plt.ylim(0,0.002)\n",
    "plt.xlim(0,10000)\n",
    "\n",
    "plt.subplot(155)\n",
    "plot = d.RENDA[d.OCUPAÇÃO=='Outro'].plot.hist(bins=faixa,title=' Outro em 2009',figsize=(20,5), normed=1, alpha=0.5)\n",
    "plt.ylabel('Densidade')\n",
    "plt.xlabel('Renda')\n",
    "plt.ylim(0,0.002)\n",
    "plt.xlim(0,10000)\n",
    "\n"
   ]
  },
  {
   "cell_type": "code",
   "execution_count": 316,
   "metadata": {},
   "outputs": [
    {
     "data": {
      "text/plain": [
       "(0, 10000)"
      ]
     },
     "execution_count": 316,
     "metadata": {},
     "output_type": "execute_result"
    },
    {
     "data": {
      "image/png": "[encoded data removed]",
      "text/plain": [
       "<matplotlib.figure.Figure at 0x23e506477b8>"
      ]
     },
     "metadata": {},
     "output_type": "display_data"
    }
   ],
   "source": [
    "faixa = arange(0,100000,250)\n",
    "\n",
    "plt.subplot(151)\n",
    "plot = d2.RENDA[d.OCUPAÇÃO=='Próprio PAGO'].plot.hist(bins=faixa,title='Proprietario pago em 2013',figsize=(10,5), normed=1, alpha=0.5)\n",
    "plt.ylabel('Densidade')\n",
    "plt.xlabel('Renda')\n",
    "plt.ylim(0,0.002)\n",
    "plt.xlim(0,10000)\n",
    "\n",
    "plt.subplot(152)\n",
    "plot = d2.RENDA[d.OCUPAÇÃO=='Próprio'].plot.hist(bins=faixa,title='Próprio não pago em 2013',figsize=(10,5), normed=1, alpha=0.5)\n",
    "plt.ylabel('Densidade')\n",
    "plt.xlabel('Renda')\n",
    "plt.ylim(0,0.002)\n",
    "plt.xlim(0,10000)\n",
    "\n",
    "plt.subplot(153)\n",
    "plot = d2.RENDA[d.OCUPAÇÃO=='Alugado'].plot.hist(bins=faixa,title='Alugado em 2013',figsize=(10,5), normed=1, alpha=0.5)\n",
    "plt.ylabel('Densidade')\n",
    "plt.xlabel('Renda')\n",
    "plt.ylim(0,0.002)\n",
    "plt.xlim(0,10000)\n",
    "\n",
    "plt.subplot(154)\n",
    "plot = d2.RENDA[d.OCUPAÇÃO=='Cedido por empregador'].plot.hist(bins=faixa,title='Cedido por empregador em 2013',figsize=(10,5), normed=1, alpha=0.5)\n",
    "plt.ylabel('Densidade')\n",
    "plt.xlabel('Renda')\n",
    "plt.ylim(0,0.002)\n",
    "plt.xlim(0,10000)\n",
    "\n",
    "plt.subplot(155)\n",
    "plot = d2.RENDA[d.OCUPAÇÃO=='Outro'].plot.hist(bins=faixa,title=' Outro em 2013',figsize=(20,5), normed=1, alpha=0.5)\n",
    "plt.ylabel('Densidade')\n",
    "plt.xlabel('Renda')\n",
    "plt.ylim(0,0.002)\n",
    "plt.xlim(0,10000)\n"
   ]
  },
  {
   "cell_type": "markdown",
   "metadata": {},
   "source": [
    "### RENDA  X   ÁGUA + GELADEIRA"
   ]
  },
  {
   "cell_type": "code",
   "execution_count": 301,
   "metadata": {},
   "outputs": [
    {
     "data": {
      "text/html": [
       "<div>\n",
       "<table border=\"1\" class=\"dataframe\">\n",
       "  <thead>\n",
       "    <tr style=\"text-align: right;\">\n",
       "      <th></th>\n",
       "      <th>RENDA</th>\n",
       "      <th>OCUPAÇÃO</th>\n",
       "      <th>MATERIAL</th>\n",
       "      <th>AGUA</th>\n",
       "      <th>GELADEIRA</th>\n",
       "      <th>SENTIUFOME</th>\n",
       "      <th>FALTAAL</th>\n",
       "      <th>INFRAESTRUTURA</th>\n",
       "    </tr>\n",
       "  </thead>\n",
       "  <tbody>\n",
       "    <tr>\n",
       "      <th>2</th>\n",
       "      <td>118.0</td>\n",
       "      <td>Próprio PAGO</td>\n",
       "      <td>Mad Aproveitada</td>\n",
       "      <td>Sim</td>\n",
       "      <td>Sim, 1porta</td>\n",
       "      <td>Sim</td>\n",
       "      <td>Sim</td>\n",
       "      <td>Sim</td>\n",
       "    </tr>\n",
       "    <tr>\n",
       "      <th>3</th>\n",
       "      <td>1053.0</td>\n",
       "      <td>Próprio PAGO</td>\n",
       "      <td>Alven</td>\n",
       "      <td>Sim</td>\n",
       "      <td>Sim, 2portas</td>\n",
       "      <td>NaN</td>\n",
       "      <td>Nao</td>\n",
       "      <td>Sim</td>\n",
       "    </tr>\n",
       "    <tr>\n",
       "      <th>4</th>\n",
       "      <td>930.0</td>\n",
       "      <td>Próprio PAGO</td>\n",
       "      <td>Alven</td>\n",
       "      <td>Sim</td>\n",
       "      <td>Sim, 1porta</td>\n",
       "      <td>NaN</td>\n",
       "      <td>Nao</td>\n",
       "      <td>Sim</td>\n",
       "    </tr>\n",
       "    <tr>\n",
       "      <th>6</th>\n",
       "      <td>232.0</td>\n",
       "      <td>Próprio PAGO</td>\n",
       "      <td>Mad Aparelhada</td>\n",
       "      <td>Sim</td>\n",
       "      <td>Sim, 1porta</td>\n",
       "      <td>NaN</td>\n",
       "      <td>Nao</td>\n",
       "      <td>Sim</td>\n",
       "    </tr>\n",
       "    <tr>\n",
       "      <th>7</th>\n",
       "      <td>248.0</td>\n",
       "      <td>Próprio PAGO</td>\n",
       "      <td>Mad Aparelhada</td>\n",
       "      <td>Sim</td>\n",
       "      <td>Sim, 2portas</td>\n",
       "      <td>NaN</td>\n",
       "      <td>Nao</td>\n",
       "      <td>Sim</td>\n",
       "    </tr>\n",
       "  </tbody>\n",
       "</table>\n",
       "</div>"
      ],
      "text/plain": [
       "    RENDA      OCUPAÇÃO         MATERIAL AGUA     GELADEIRA SENTIUFOME  \\\n",
       "2   118.0  Próprio PAGO  Mad Aproveitada  Sim   Sim, 1porta        Sim   \n",
       "3  1053.0  Próprio PAGO            Alven  Sim  Sim, 2portas        NaN   \n",
       "4   930.0  Próprio PAGO            Alven  Sim   Sim, 1porta        NaN   \n",
       "6   232.0  Próprio PAGO   Mad Aparelhada  Sim   Sim, 1porta        NaN   \n",
       "7   248.0  Próprio PAGO   Mad Aparelhada  Sim  Sim, 2portas        NaN   \n",
       "\n",
       "  FALTAAL INFRAESTRUTURA  \n",
       "2     Sim            Sim  \n",
       "3     Nao            Sim  \n",
       "4     Nao            Sim  \n",
       "6     Nao            Sim  \n",
       "7     Nao            Sim  "
      ]
     },
     "execution_count": 301,
     "metadata": {},
     "output_type": "execute_result"
    }
   ],
   "source": [
    "#INFRAESTRUTURA\n",
    "\n",
    "d.loc[(d.AGUA=='Sim') & (d.GELADEIRA=='Sim, 2portas'),'INFRAESTRUTURA'] = 'Sim'\n",
    "d.loc[(d.AGUA=='Sim') & (d.GELADEIRA=='Sim, 1porta'),'INFRAESTRUTURA'] = 'Sim'\n",
    "d.loc[(d.AGUA=='Nao') | (d.GELADEIRA=='Nao'),'INFRAESTRUTURA'] = 'Nao'\n",
    "d.head()"
   ]
  },
  {
   "cell_type": "code",
   "execution_count": 302,
   "metadata": {},
   "outputs": [
    {
     "data": {
      "text/plain": [
       "count    117827.000000\n",
       "mean        760.880605\n",
       "std        1355.601794\n",
       "min           0.000000\n",
       "25%         232.000000\n",
       "50%         451.000000\n",
       "75%         797.000000\n",
       "max       94669.000000\n",
       "Name: RENDA, dtype: float64"
      ]
     },
     "execution_count": 302,
     "metadata": {},
     "output_type": "execute_result"
    }
   ],
   "source": [
    "#RENDA\n",
    "d.RENDA.describe()"
   ]
  },
  {
   "cell_type": "code",
   "execution_count": 303,
   "metadata": {},
   "outputs": [
    {
     "data": {
      "text/plain": [
       "<matplotlib.text.Text at 0x23e511fa908>"
      ]
     },
     "execution_count": 303,
     "metadata": {},
     "output_type": "execute_result"
    },
    {
     "data": {
      "image/png": "[encoded data removed]",
      "text/plain": [
       "<matplotlib.figure.Figure at 0x23e52753a58>"
      ]
     },
     "metadata": {},
     "output_type": "display_data"
    }
   ],
   "source": [
    "# k= raiz de 121163 = 348 = 350\n",
    "# amplitude= 94669\n",
    "#270 \n",
    "faixa = arange(0,100000,250)\n",
    "\n",
    "plot = d.RENDA.plot.hist(bins=faixa,title='HISTOGRAMA RENDA',figsize=(20,5), normed=1, alpha=0.5)\n",
    "plt.ylabel('Densidade')\n",
    "plt.xlabel('Renda')\n"
   ]
  },
  {
   "cell_type": "code",
   "execution_count": 304,
   "metadata": {},
   "outputs": [
    {
     "data": {
      "text/plain": [
       "<matplotlib.text.Text at 0x23e54820b38>"
      ]
     },
     "execution_count": 304,
     "metadata": {},
     "output_type": "execute_result"
    },
    {
     "data": {
      "image/png": "[encoded data removed]",
      "text/plain": [
       "<matplotlib.figure.Figure at 0x23e52f21208>"
      ]
     },
     "metadata": {},
     "output_type": "display_data"
    }
   ],
   "source": [
    "faixa = arange(0,10000,250)\n",
    "\n",
    "plot = d.RENDA.plot.hist(bins=faixa,title='HISTOGRAMA RENDA',figsize=(10,5), normed=1, alpha=0.5)\n",
    "plt.ylabel('Densidade')\n",
    "plt.xlabel('Renda')"
   ]
  },
  {
   "cell_type": "code",
   "execution_count": 320,
   "metadata": {},
   "outputs": [
    {
     "data": {
      "text/plain": [
       "(0, 10000)"
      ]
     },
     "execution_count": 320,
     "metadata": {},
     "output_type": "execute_result"
    },
    {
     "data": {
      "image/png": "[encoded data removed]",
      "text/plain": [
       "<matplotlib.figure.Figure at 0x23e50bad4a8>"
      ]
     },
     "metadata": {},
     "output_type": "display_data"
    }
   ],
   "source": [
    "\n",
    "plt.subplot(121)\n",
    "plot = d.RENDA[d.INFRAESTRUTURA=='Sim'].plot.hist(bins=faixa,title='Tem Infraestrutura em 2009',figsize=(10,5), normed=1, alpha=0.5)\n",
    "plt.ylabel('Densidade')\n",
    "plt.xlabel('Renda')\n",
    "plt.ylim(0,0.0025)\n",
    "plt.xlim(0,10000)\n",
    "\n",
    "\n",
    "plt.subplot(122)\n",
    "plot = d.RENDA[d.INFRAESTRUTURA=='Nao'].plot.hist(bins=faixa,title='Não tem Infraestrutura em 2009',figsize=(10,5), normed=1, alpha=0.5)\n",
    "plt.ylabel('Densidade')\n",
    "plt.xlabel('Renda')\n",
    "plt.ylim(0,0.0025)\n",
    "plt.xlim(0,10000)"
   ]
  },
  {
   "cell_type": "code",
   "execution_count": 322,
   "metadata": {},
   "outputs": [
    {
     "data": {
      "text/plain": [
       "(0, 10000)"
      ]
     },
     "execution_count": 322,
     "metadata": {},
     "output_type": "execute_result"
    },
    {
     "data": {
      "image/png": "[encoded data removed]",
      "text/plain": [
       "<matplotlib.figure.Figure at 0x23e5c90cb38>"
      ]
     },
     "metadata": {},
     "output_type": "display_data"
    }
   ],
   "source": [
    "d2.loc[(d2.AGUA=='Sim') & (d2.GELADEIRA=='Sim, 2portas'),'INFRAESTRUTURA'] = 'Sim'\n",
    "d2.loc[(d2.AGUA=='Sim') & (d2.GELADEIRA=='Sim, 1porta'),'INFRAESTRUTURA'] = 'Sim'\n",
    "d2.loc[(d2.AGUA=='Nao') | (d2.GELADEIRA=='Nao'),'INFRAESTRUTURA'] = 'Nao'\n",
    "d2.head()\n",
    "\n",
    "\n",
    "plt.subplot(121)\n",
    "plot = d2.RENDA[d.INFRAESTRUTURA=='Sim'].plot.hist(bins=faixa,title='Tem Infraestrutura em 2013',figsize=(10,5), normed=1, alpha=0.5)\n",
    "plt.ylabel('Densidade')\n",
    "plt.xlabel('Renda')\n",
    "plt.ylim(0,0.0025)\n",
    "plt.xlim(0,10000)\n",
    "\n",
    "plt.subplot(122)\n",
    "plot = d2.RENDA[d.INFRAESTRUTURA=='Nao'].plot.hist(bins=faixa,title='Não tem Infraestrutura em 2013',figsize=(10,5), normed=1, alpha=0.5)\n",
    "plt.ylabel('Densidade')\n",
    "plt.xlabel('Renda')\n",
    "plt.ylim(0,0.0025)\n",
    "plt.xlim(0,10000)"
   ]
  },
  {
   "cell_type": "code",
   "execution_count": 329,
   "metadata": {},
   "outputs": [
    {
     "data": {
      "text/html": [
       "<div>\n",
       "<table border=\"1\" class=\"dataframe\">\n",
       "  <thead>\n",
       "    <tr style=\"text-align: right;\">\n",
       "      <th></th>\n",
       "      <th>RENDA</th>\n",
       "      <th>OCUPAÇÃO</th>\n",
       "      <th>MATERIAL</th>\n",
       "      <th>AGUA</th>\n",
       "      <th>GELADEIRA</th>\n",
       "      <th>SENTIUFOME</th>\n",
       "      <th>FALTAAL</th>\n",
       "      <th>INFRAESTRUTURA</th>\n",
       "    </tr>\n",
       "  </thead>\n",
       "  <tbody>\n",
       "    <tr>\n",
       "      <th>2</th>\n",
       "      <td>118.0</td>\n",
       "      <td>Próprio PAGO</td>\n",
       "      <td>Mad Aproveitada</td>\n",
       "      <td>Sim</td>\n",
       "      <td>Sim, 1porta</td>\n",
       "      <td>Sim</td>\n",
       "      <td>Sim</td>\n",
       "      <td>Sim</td>\n",
       "    </tr>\n",
       "    <tr>\n",
       "      <th>3</th>\n",
       "      <td>1053.0</td>\n",
       "      <td>Próprio PAGO</td>\n",
       "      <td>Alven</td>\n",
       "      <td>Sim</td>\n",
       "      <td>Sim, 2portas</td>\n",
       "      <td>NaN</td>\n",
       "      <td>Nao</td>\n",
       "      <td>Sim</td>\n",
       "    </tr>\n",
       "    <tr>\n",
       "      <th>4</th>\n",
       "      <td>930.0</td>\n",
       "      <td>Próprio PAGO</td>\n",
       "      <td>Alven</td>\n",
       "      <td>Sim</td>\n",
       "      <td>Sim, 1porta</td>\n",
       "      <td>NaN</td>\n",
       "      <td>Nao</td>\n",
       "      <td>Sim</td>\n",
       "    </tr>\n",
       "    <tr>\n",
       "      <th>6</th>\n",
       "      <td>232.0</td>\n",
       "      <td>Próprio PAGO</td>\n",
       "      <td>Mad Aparelhada</td>\n",
       "      <td>Sim</td>\n",
       "      <td>Sim, 1porta</td>\n",
       "      <td>NaN</td>\n",
       "      <td>Nao</td>\n",
       "      <td>Sim</td>\n",
       "    </tr>\n",
       "    <tr>\n",
       "      <th>7</th>\n",
       "      <td>248.0</td>\n",
       "      <td>Próprio PAGO</td>\n",
       "      <td>Mad Aparelhada</td>\n",
       "      <td>Sim</td>\n",
       "      <td>Sim, 2portas</td>\n",
       "      <td>NaN</td>\n",
       "      <td>Nao</td>\n",
       "      <td>Sim</td>\n",
       "    </tr>\n",
       "    <tr>\n",
       "      <th>8</th>\n",
       "      <td>59.0</td>\n",
       "      <td>Alugado</td>\n",
       "      <td>Mad Aparelhada</td>\n",
       "      <td>Sim</td>\n",
       "      <td>Sim, 1porta</td>\n",
       "      <td>Nao</td>\n",
       "      <td>Sim</td>\n",
       "      <td>Sim</td>\n",
       "    </tr>\n",
       "    <tr>\n",
       "      <th>9</th>\n",
       "      <td>6512.0</td>\n",
       "      <td>Próprio PAGO</td>\n",
       "      <td>Alven</td>\n",
       "      <td>Sim</td>\n",
       "      <td>Sim, 1porta</td>\n",
       "      <td>Nao</td>\n",
       "      <td>Nao</td>\n",
       "      <td>Sim</td>\n",
       "    </tr>\n",
       "    <tr>\n",
       "      <th>10</th>\n",
       "      <td>87.0</td>\n",
       "      <td>Alugado</td>\n",
       "      <td>Mad Aparelhada</td>\n",
       "      <td>Sim</td>\n",
       "      <td>Sim, 2portas</td>\n",
       "      <td>Nao</td>\n",
       "      <td>Sim</td>\n",
       "      <td>Sim</td>\n",
       "    </tr>\n",
       "    <tr>\n",
       "      <th>12</th>\n",
       "      <td>248.0</td>\n",
       "      <td>Próprio PAGO</td>\n",
       "      <td>Mad Aparelhada</td>\n",
       "      <td>Sim</td>\n",
       "      <td>Sim, 1porta</td>\n",
       "      <td>NaN</td>\n",
       "      <td>Nao</td>\n",
       "      <td>Sim</td>\n",
       "    </tr>\n",
       "    <tr>\n",
       "      <th>13</th>\n",
       "      <td>0.0</td>\n",
       "      <td>Cedido</td>\n",
       "      <td>Alven</td>\n",
       "      <td>Sim</td>\n",
       "      <td>Sim, 1porta</td>\n",
       "      <td>NaN</td>\n",
       "      <td>Nao</td>\n",
       "      <td>Sim</td>\n",
       "    </tr>\n",
       "    <tr>\n",
       "      <th>14</th>\n",
       "      <td>500.0</td>\n",
       "      <td>Próprio PAGO</td>\n",
       "      <td>Alven</td>\n",
       "      <td>Sim</td>\n",
       "      <td>Sim, 1porta</td>\n",
       "      <td>Nao</td>\n",
       "      <td>Nao</td>\n",
       "      <td>Sim</td>\n",
       "    </tr>\n",
       "    <tr>\n",
       "      <th>15</th>\n",
       "      <td>321.0</td>\n",
       "      <td>Próprio PAGO</td>\n",
       "      <td>Mad Aproveitada</td>\n",
       "      <td>Sim</td>\n",
       "      <td>Sim, 1porta</td>\n",
       "      <td>NaN</td>\n",
       "      <td>Nao</td>\n",
       "      <td>Sim</td>\n",
       "    </tr>\n",
       "    <tr>\n",
       "      <th>16</th>\n",
       "      <td>94.0</td>\n",
       "      <td>Alugado</td>\n",
       "      <td>Mad Aproveitada</td>\n",
       "      <td>Sim</td>\n",
       "      <td>Sim, 1porta</td>\n",
       "      <td>NaN</td>\n",
       "      <td>Nao</td>\n",
       "      <td>Sim</td>\n",
       "    </tr>\n",
       "    <tr>\n",
       "      <th>18</th>\n",
       "      <td>154.0</td>\n",
       "      <td>Alugado</td>\n",
       "      <td>Mad Aproveitada</td>\n",
       "      <td>Sim</td>\n",
       "      <td>Sim, 1porta</td>\n",
       "      <td>NaN</td>\n",
       "      <td>Nao</td>\n",
       "      <td>Sim</td>\n",
       "    </tr>\n",
       "    <tr>\n",
       "      <th>19</th>\n",
       "      <td>111.0</td>\n",
       "      <td>Cedido</td>\n",
       "      <td>Mad Aproveitada</td>\n",
       "      <td>Sim</td>\n",
       "      <td>Nao</td>\n",
       "      <td>Sim</td>\n",
       "      <td>Sim</td>\n",
       "      <td>Nao</td>\n",
       "    </tr>\n",
       "    <tr>\n",
       "      <th>21</th>\n",
       "      <td>465.0</td>\n",
       "      <td>Próprio PAGO</td>\n",
       "      <td>Mad Aproveitada</td>\n",
       "      <td>Sim</td>\n",
       "      <td>Sim, 1porta</td>\n",
       "      <td>NaN</td>\n",
       "      <td>Nao</td>\n",
       "      <td>Sim</td>\n",
       "    </tr>\n",
       "    <tr>\n",
       "      <th>22</th>\n",
       "      <td>1400.0</td>\n",
       "      <td>Próprio PAGO</td>\n",
       "      <td>Alven</td>\n",
       "      <td>Sim</td>\n",
       "      <td>Sim, 1porta</td>\n",
       "      <td>NaN</td>\n",
       "      <td>Nao</td>\n",
       "      <td>Sim</td>\n",
       "    </tr>\n",
       "    <tr>\n",
       "      <th>23</th>\n",
       "      <td>105.0</td>\n",
       "      <td>Próprio PAGO</td>\n",
       "      <td>Mad Aproveitada</td>\n",
       "      <td>Sim</td>\n",
       "      <td>Sim, 1porta</td>\n",
       "      <td>NaN</td>\n",
       "      <td>Nao</td>\n",
       "      <td>Sim</td>\n",
       "    </tr>\n",
       "    <tr>\n",
       "      <th>24</th>\n",
       "      <td>136.0</td>\n",
       "      <td>Alugado</td>\n",
       "      <td>Alven</td>\n",
       "      <td>Sim</td>\n",
       "      <td>Sim, 1porta</td>\n",
       "      <td>NaN</td>\n",
       "      <td>Nao</td>\n",
       "      <td>Sim</td>\n",
       "    </tr>\n",
       "    <tr>\n",
       "      <th>25</th>\n",
       "      <td>576.0</td>\n",
       "      <td>Próprio PAGO</td>\n",
       "      <td>Mad Aparelhada</td>\n",
       "      <td>Sim</td>\n",
       "      <td>Sim, 2portas</td>\n",
       "      <td>Nao</td>\n",
       "      <td>Sim</td>\n",
       "      <td>Sim</td>\n",
       "    </tr>\n",
       "    <tr>\n",
       "      <th>26</th>\n",
       "      <td>1017.0</td>\n",
       "      <td>Alugado</td>\n",
       "      <td>Mad Aparelhada</td>\n",
       "      <td>Sim</td>\n",
       "      <td>Sim, 1porta</td>\n",
       "      <td>NaN</td>\n",
       "      <td>Nao</td>\n",
       "      <td>Sim</td>\n",
       "    </tr>\n",
       "    <tr>\n",
       "      <th>27</th>\n",
       "      <td>175.0</td>\n",
       "      <td>Alugado</td>\n",
       "      <td>Mad Aparelhada</td>\n",
       "      <td>Sim</td>\n",
       "      <td>Sim, 1porta</td>\n",
       "      <td>Sim</td>\n",
       "      <td>Sim</td>\n",
       "      <td>Sim</td>\n",
       "    </tr>\n",
       "    <tr>\n",
       "      <th>29</th>\n",
       "      <td>30.0</td>\n",
       "      <td>Próprio PAGO</td>\n",
       "      <td>Mad Aparelhada</td>\n",
       "      <td>Sim</td>\n",
       "      <td>Sim, 1porta</td>\n",
       "      <td>Nao</td>\n",
       "      <td>Sim</td>\n",
       "      <td>Sim</td>\n",
       "    </tr>\n",
       "    <tr>\n",
       "      <th>30</th>\n",
       "      <td>175.0</td>\n",
       "      <td>Alugado</td>\n",
       "      <td>Mad Aparelhada</td>\n",
       "      <td>Sim</td>\n",
       "      <td>Sim, 1porta</td>\n",
       "      <td>Nao</td>\n",
       "      <td>Sim</td>\n",
       "      <td>Sim</td>\n",
       "    </tr>\n",
       "    <tr>\n",
       "      <th>31</th>\n",
       "      <td>465.0</td>\n",
       "      <td>Próprio PAGO</td>\n",
       "      <td>Mad Aparelhada</td>\n",
       "      <td>Sim</td>\n",
       "      <td>Sim, 1porta</td>\n",
       "      <td>Nao</td>\n",
       "      <td>Sim</td>\n",
       "      <td>Sim</td>\n",
       "    </tr>\n",
       "    <tr>\n",
       "      <th>33</th>\n",
       "      <td>750.0</td>\n",
       "      <td>Próprio PAGO</td>\n",
       "      <td>Alven</td>\n",
       "      <td>Sim</td>\n",
       "      <td>Sim, 1porta</td>\n",
       "      <td>Nao</td>\n",
       "      <td>Nao</td>\n",
       "      <td>Sim</td>\n",
       "    </tr>\n",
       "    <tr>\n",
       "      <th>37</th>\n",
       "      <td>283.0</td>\n",
       "      <td>Cedido por empregador</td>\n",
       "      <td>Mad Aparelhada</td>\n",
       "      <td>Sim</td>\n",
       "      <td>Sim, 1porta</td>\n",
       "      <td>NaN</td>\n",
       "      <td>Nao</td>\n",
       "      <td>Sim</td>\n",
       "    </tr>\n",
       "    <tr>\n",
       "      <th>39</th>\n",
       "      <td>672.0</td>\n",
       "      <td>Próprio PAGO</td>\n",
       "      <td>Mad Aproveitada</td>\n",
       "      <td>Nao</td>\n",
       "      <td>Sim, 1porta</td>\n",
       "      <td>NaN</td>\n",
       "      <td>Nao</td>\n",
       "      <td>Nao</td>\n",
       "    </tr>\n",
       "    <tr>\n",
       "      <th>40</th>\n",
       "      <td>750.0</td>\n",
       "      <td>Próprio PAGO</td>\n",
       "      <td>Mad Aproveitada</td>\n",
       "      <td>Sim</td>\n",
       "      <td>Sim, 2portas</td>\n",
       "      <td>NaN</td>\n",
       "      <td>Nao</td>\n",
       "      <td>Sim</td>\n",
       "    </tr>\n",
       "    <tr>\n",
       "      <th>41</th>\n",
       "      <td>600.0</td>\n",
       "      <td>Alugado</td>\n",
       "      <td>Alven</td>\n",
       "      <td>Nao</td>\n",
       "      <td>Sim, 1porta</td>\n",
       "      <td>NaN</td>\n",
       "      <td>Nao</td>\n",
       "      <td>Nao</td>\n",
       "    </tr>\n",
       "    <tr>\n",
       "      <th>...</th>\n",
       "      <td>...</td>\n",
       "      <td>...</td>\n",
       "      <td>...</td>\n",
       "      <td>...</td>\n",
       "      <td>...</td>\n",
       "      <td>...</td>\n",
       "      <td>...</td>\n",
       "      <td>...</td>\n",
       "    </tr>\n",
       "    <tr>\n",
       "      <th>153784</th>\n",
       "      <td>1666.0</td>\n",
       "      <td>Cedido</td>\n",
       "      <td>Alven</td>\n",
       "      <td>Sim</td>\n",
       "      <td>Sim, 2portas</td>\n",
       "      <td>NaN</td>\n",
       "      <td>Nao</td>\n",
       "      <td>Sim</td>\n",
       "    </tr>\n",
       "    <tr>\n",
       "      <th>153785</th>\n",
       "      <td>5666.0</td>\n",
       "      <td>Próprio PAGO</td>\n",
       "      <td>Alven</td>\n",
       "      <td>Sim</td>\n",
       "      <td>Sim, 2portas</td>\n",
       "      <td>NaN</td>\n",
       "      <td>Nao</td>\n",
       "      <td>Sim</td>\n",
       "    </tr>\n",
       "    <tr>\n",
       "      <th>153786</th>\n",
       "      <td>11000.0</td>\n",
       "      <td>Próprio PAGO</td>\n",
       "      <td>Alven</td>\n",
       "      <td>Sim</td>\n",
       "      <td>Sim, 2portas</td>\n",
       "      <td>NaN</td>\n",
       "      <td>Nao</td>\n",
       "      <td>Sim</td>\n",
       "    </tr>\n",
       "    <tr>\n",
       "      <th>153787</th>\n",
       "      <td>1632.0</td>\n",
       "      <td>Alugado</td>\n",
       "      <td>Alven</td>\n",
       "      <td>Sim</td>\n",
       "      <td>Sim, 2portas</td>\n",
       "      <td>NaN</td>\n",
       "      <td>Nao</td>\n",
       "      <td>Sim</td>\n",
       "    </tr>\n",
       "    <tr>\n",
       "      <th>153789</th>\n",
       "      <td>1650.0</td>\n",
       "      <td>Próprio PAGO</td>\n",
       "      <td>Alven</td>\n",
       "      <td>Sim</td>\n",
       "      <td>Sim, 2portas</td>\n",
       "      <td>NaN</td>\n",
       "      <td>Nao</td>\n",
       "      <td>Sim</td>\n",
       "    </tr>\n",
       "    <tr>\n",
       "      <th>153790</th>\n",
       "      <td>5000.0</td>\n",
       "      <td>Próprio</td>\n",
       "      <td>Alven</td>\n",
       "      <td>Sim</td>\n",
       "      <td>Sim, 1porta</td>\n",
       "      <td>NaN</td>\n",
       "      <td>Nao</td>\n",
       "      <td>Sim</td>\n",
       "    </tr>\n",
       "    <tr>\n",
       "      <th>153791</th>\n",
       "      <td>5000.0</td>\n",
       "      <td>Alugado</td>\n",
       "      <td>Alven</td>\n",
       "      <td>Sim</td>\n",
       "      <td>Sim, 1porta</td>\n",
       "      <td>NaN</td>\n",
       "      <td>Nao</td>\n",
       "      <td>Sim</td>\n",
       "    </tr>\n",
       "    <tr>\n",
       "      <th>153792</th>\n",
       "      <td>3000.0</td>\n",
       "      <td>Alugado</td>\n",
       "      <td>Alven</td>\n",
       "      <td>Sim</td>\n",
       "      <td>Sim, 2portas</td>\n",
       "      <td>NaN</td>\n",
       "      <td>Nao</td>\n",
       "      <td>Sim</td>\n",
       "    </tr>\n",
       "    <tr>\n",
       "      <th>153794</th>\n",
       "      <td>750.0</td>\n",
       "      <td>Próprio PAGO</td>\n",
       "      <td>Alven</td>\n",
       "      <td>Sim</td>\n",
       "      <td>Sim, 2portas</td>\n",
       "      <td>NaN</td>\n",
       "      <td>Nao</td>\n",
       "      <td>Sim</td>\n",
       "    </tr>\n",
       "    <tr>\n",
       "      <th>153795</th>\n",
       "      <td>2800.0</td>\n",
       "      <td>Próprio PAGO</td>\n",
       "      <td>Alven</td>\n",
       "      <td>Sim</td>\n",
       "      <td>Sim, 2portas</td>\n",
       "      <td>NaN</td>\n",
       "      <td>Nao</td>\n",
       "      <td>Sim</td>\n",
       "    </tr>\n",
       "    <tr>\n",
       "      <th>153796</th>\n",
       "      <td>1225.0</td>\n",
       "      <td>Próprio PAGO</td>\n",
       "      <td>Alven</td>\n",
       "      <td>Sim</td>\n",
       "      <td>Sim, 2portas</td>\n",
       "      <td>NaN</td>\n",
       "      <td>Nao</td>\n",
       "      <td>Sim</td>\n",
       "    </tr>\n",
       "    <tr>\n",
       "      <th>153797</th>\n",
       "      <td>4000.0</td>\n",
       "      <td>Alugado</td>\n",
       "      <td>Alven</td>\n",
       "      <td>Sim</td>\n",
       "      <td>Sim, 1porta</td>\n",
       "      <td>NaN</td>\n",
       "      <td>Nao</td>\n",
       "      <td>Sim</td>\n",
       "    </tr>\n",
       "    <tr>\n",
       "      <th>153798</th>\n",
       "      <td>6000.0</td>\n",
       "      <td>Próprio PAGO</td>\n",
       "      <td>Alven</td>\n",
       "      <td>Sim</td>\n",
       "      <td>Sim, 2portas</td>\n",
       "      <td>NaN</td>\n",
       "      <td>Nao</td>\n",
       "      <td>Sim</td>\n",
       "    </tr>\n",
       "    <tr>\n",
       "      <th>153799</th>\n",
       "      <td>1650.0</td>\n",
       "      <td>Cedido</td>\n",
       "      <td>Alven</td>\n",
       "      <td>Sim</td>\n",
       "      <td>Sim, 1porta</td>\n",
       "      <td>NaN</td>\n",
       "      <td>Nao</td>\n",
       "      <td>Sim</td>\n",
       "    </tr>\n",
       "    <tr>\n",
       "      <th>153800</th>\n",
       "      <td>21100.0</td>\n",
       "      <td>Próprio PAGO</td>\n",
       "      <td>Alven</td>\n",
       "      <td>Sim</td>\n",
       "      <td>Sim, 2portas</td>\n",
       "      <td>NaN</td>\n",
       "      <td>Nao</td>\n",
       "      <td>Sim</td>\n",
       "    </tr>\n",
       "    <tr>\n",
       "      <th>153801</th>\n",
       "      <td>6500.0</td>\n",
       "      <td>Alugado</td>\n",
       "      <td>Alven</td>\n",
       "      <td>Sim</td>\n",
       "      <td>Sim, 1porta</td>\n",
       "      <td>NaN</td>\n",
       "      <td>Nao</td>\n",
       "      <td>Sim</td>\n",
       "    </tr>\n",
       "    <tr>\n",
       "      <th>153802</th>\n",
       "      <td>4500.0</td>\n",
       "      <td>Cedido por empregador</td>\n",
       "      <td>Alven</td>\n",
       "      <td>Sim</td>\n",
       "      <td>Sim, 1porta</td>\n",
       "      <td>NaN</td>\n",
       "      <td>Nao</td>\n",
       "      <td>Sim</td>\n",
       "    </tr>\n",
       "    <tr>\n",
       "      <th>153808</th>\n",
       "      <td>8000.0</td>\n",
       "      <td>Próprio PAGO</td>\n",
       "      <td>Alven</td>\n",
       "      <td>Sim</td>\n",
       "      <td>Sim, 2portas</td>\n",
       "      <td>NaN</td>\n",
       "      <td>Nao</td>\n",
       "      <td>Sim</td>\n",
       "    </tr>\n",
       "    <tr>\n",
       "      <th>153810</th>\n",
       "      <td>1510.0</td>\n",
       "      <td>Próprio</td>\n",
       "      <td>Alven</td>\n",
       "      <td>Sim</td>\n",
       "      <td>Sim, 1porta</td>\n",
       "      <td>Nao</td>\n",
       "      <td>Nao</td>\n",
       "      <td>Sim</td>\n",
       "    </tr>\n",
       "    <tr>\n",
       "      <th>153811</th>\n",
       "      <td>3370.0</td>\n",
       "      <td>Alugado</td>\n",
       "      <td>Alven</td>\n",
       "      <td>Sim</td>\n",
       "      <td>Sim, 1porta</td>\n",
       "      <td>NaN</td>\n",
       "      <td>Nao</td>\n",
       "      <td>Sim</td>\n",
       "    </tr>\n",
       "    <tr>\n",
       "      <th>153815</th>\n",
       "      <td>7760.0</td>\n",
       "      <td>Próprio</td>\n",
       "      <td>Alven</td>\n",
       "      <td>Sim</td>\n",
       "      <td>Sim, 2portas</td>\n",
       "      <td>NaN</td>\n",
       "      <td>Nao</td>\n",
       "      <td>Sim</td>\n",
       "    </tr>\n",
       "    <tr>\n",
       "      <th>153817</th>\n",
       "      <td>2400.0</td>\n",
       "      <td>Alugado</td>\n",
       "      <td>Alven</td>\n",
       "      <td>Sim</td>\n",
       "      <td>Sim, 2portas</td>\n",
       "      <td>NaN</td>\n",
       "      <td>Nao</td>\n",
       "      <td>Sim</td>\n",
       "    </tr>\n",
       "    <tr>\n",
       "      <th>153818</th>\n",
       "      <td>4700.0</td>\n",
       "      <td>Próprio PAGO</td>\n",
       "      <td>Alven</td>\n",
       "      <td>Sim</td>\n",
       "      <td>Sim, 2portas</td>\n",
       "      <td>NaN</td>\n",
       "      <td>Nao</td>\n",
       "      <td>Sim</td>\n",
       "    </tr>\n",
       "    <tr>\n",
       "      <th>153819</th>\n",
       "      <td>4775.0</td>\n",
       "      <td>Próprio</td>\n",
       "      <td>Alven</td>\n",
       "      <td>Sim</td>\n",
       "      <td>Sim, 2portas</td>\n",
       "      <td>NaN</td>\n",
       "      <td>Nao</td>\n",
       "      <td>Sim</td>\n",
       "    </tr>\n",
       "    <tr>\n",
       "      <th>153823</th>\n",
       "      <td>3242.0</td>\n",
       "      <td>Próprio</td>\n",
       "      <td>Alven</td>\n",
       "      <td>Sim</td>\n",
       "      <td>Sim, 2portas</td>\n",
       "      <td>NaN</td>\n",
       "      <td>Nao</td>\n",
       "      <td>Sim</td>\n",
       "    </tr>\n",
       "    <tr>\n",
       "      <th>153830</th>\n",
       "      <td>2000.0</td>\n",
       "      <td>Próprio PAGO</td>\n",
       "      <td>Alven</td>\n",
       "      <td>Sim</td>\n",
       "      <td>Sim, 2portas</td>\n",
       "      <td>NaN</td>\n",
       "      <td>Nao</td>\n",
       "      <td>Sim</td>\n",
       "    </tr>\n",
       "    <tr>\n",
       "      <th>153832</th>\n",
       "      <td>2500.0</td>\n",
       "      <td>Alugado</td>\n",
       "      <td>Alven</td>\n",
       "      <td>Sim</td>\n",
       "      <td>Sim, 1porta</td>\n",
       "      <td>NaN</td>\n",
       "      <td>Nao</td>\n",
       "      <td>Sim</td>\n",
       "    </tr>\n",
       "    <tr>\n",
       "      <th>153834</th>\n",
       "      <td>8333.0</td>\n",
       "      <td>Próprio</td>\n",
       "      <td>Alven</td>\n",
       "      <td>Sim</td>\n",
       "      <td>Sim, 2portas</td>\n",
       "      <td>NaN</td>\n",
       "      <td>Nao</td>\n",
       "      <td>Sim</td>\n",
       "    </tr>\n",
       "    <tr>\n",
       "      <th>153835</th>\n",
       "      <td>7166.0</td>\n",
       "      <td>Próprio</td>\n",
       "      <td>Alven</td>\n",
       "      <td>Sim</td>\n",
       "      <td>Sim, 2portas</td>\n",
       "      <td>NaN</td>\n",
       "      <td>Nao</td>\n",
       "      <td>Sim</td>\n",
       "    </tr>\n",
       "    <tr>\n",
       "      <th>153836</th>\n",
       "      <td>2500.0</td>\n",
       "      <td>Próprio PAGO</td>\n",
       "      <td>Alven</td>\n",
       "      <td>Sim</td>\n",
       "      <td>Sim, 2portas</td>\n",
       "      <td>NaN</td>\n",
       "      <td>Nao</td>\n",
       "      <td>Sim</td>\n",
       "    </tr>\n",
       "  </tbody>\n",
       "</table>\n",
       "<p>117827 rows × 8 columns</p>\n",
       "</div>"
      ],
      "text/plain": [
       "          RENDA               OCUPAÇÃO         MATERIAL AGUA     GELADEIRA  \\\n",
       "2         118.0           Próprio PAGO  Mad Aproveitada  Sim   Sim, 1porta   \n",
       "3        1053.0           Próprio PAGO            Alven  Sim  Sim, 2portas   \n",
       "4         930.0           Próprio PAGO            Alven  Sim   Sim, 1porta   \n",
       "6         232.0           Próprio PAGO   Mad Aparelhada  Sim   Sim, 1porta   \n",
       "7         248.0           Próprio PAGO   Mad Aparelhada  Sim  Sim, 2portas   \n",
       "8          59.0                Alugado   Mad Aparelhada  Sim   Sim, 1porta   \n",
       "9        6512.0           Próprio PAGO            Alven  Sim   Sim, 1porta   \n",
       "10         87.0                Alugado   Mad Aparelhada  Sim  Sim, 2portas   \n",
       "12        248.0           Próprio PAGO   Mad Aparelhada  Sim   Sim, 1porta   \n",
       "13          0.0                 Cedido            Alven  Sim   Sim, 1porta   \n",
       "14        500.0           Próprio PAGO            Alven  Sim   Sim, 1porta   \n",
       "15        321.0           Próprio PAGO  Mad Aproveitada  Sim   Sim, 1porta   \n",
       "16         94.0                Alugado  Mad Aproveitada  Sim   Sim, 1porta   \n",
       "18        154.0                Alugado  Mad Aproveitada  Sim   Sim, 1porta   \n",
       "19        111.0                 Cedido  Mad Aproveitada  Sim           Nao   \n",
       "21        465.0           Próprio PAGO  Mad Aproveitada  Sim   Sim, 1porta   \n",
       "22       1400.0           Próprio PAGO            Alven  Sim   Sim, 1porta   \n",
       "23        105.0           Próprio PAGO  Mad Aproveitada  Sim   Sim, 1porta   \n",
       "24        136.0                Alugado            Alven  Sim   Sim, 1porta   \n",
       "25        576.0           Próprio PAGO   Mad Aparelhada  Sim  Sim, 2portas   \n",
       "26       1017.0                Alugado   Mad Aparelhada  Sim   Sim, 1porta   \n",
       "27        175.0                Alugado   Mad Aparelhada  Sim   Sim, 1porta   \n",
       "29         30.0           Próprio PAGO   Mad Aparelhada  Sim   Sim, 1porta   \n",
       "30        175.0                Alugado   Mad Aparelhada  Sim   Sim, 1porta   \n",
       "31        465.0           Próprio PAGO   Mad Aparelhada  Sim   Sim, 1porta   \n",
       "33        750.0           Próprio PAGO            Alven  Sim   Sim, 1porta   \n",
       "37        283.0  Cedido por empregador   Mad Aparelhada  Sim   Sim, 1porta   \n",
       "39        672.0           Próprio PAGO  Mad Aproveitada  Nao   Sim, 1porta   \n",
       "40        750.0           Próprio PAGO  Mad Aproveitada  Sim  Sim, 2portas   \n",
       "41        600.0                Alugado            Alven  Nao   Sim, 1porta   \n",
       "...         ...                    ...              ...  ...           ...   \n",
       "153784   1666.0                 Cedido            Alven  Sim  Sim, 2portas   \n",
       "153785   5666.0           Próprio PAGO            Alven  Sim  Sim, 2portas   \n",
       "153786  11000.0           Próprio PAGO            Alven  Sim  Sim, 2portas   \n",
       "153787   1632.0                Alugado            Alven  Sim  Sim, 2portas   \n",
       "153789   1650.0           Próprio PAGO            Alven  Sim  Sim, 2portas   \n",
       "153790   5000.0                Próprio            Alven  Sim   Sim, 1porta   \n",
       "153791   5000.0                Alugado            Alven  Sim   Sim, 1porta   \n",
       "153792   3000.0                Alugado            Alven  Sim  Sim, 2portas   \n",
       "153794    750.0           Próprio PAGO            Alven  Sim  Sim, 2portas   \n",
       "153795   2800.0           Próprio PAGO            Alven  Sim  Sim, 2portas   \n",
       "153796   1225.0           Próprio PAGO            Alven  Sim  Sim, 2portas   \n",
       "153797   4000.0                Alugado            Alven  Sim   Sim, 1porta   \n",
       "153798   6000.0           Próprio PAGO            Alven  Sim  Sim, 2portas   \n",
       "153799   1650.0                 Cedido            Alven  Sim   Sim, 1porta   \n",
       "153800  21100.0           Próprio PAGO            Alven  Sim  Sim, 2portas   \n",
       "153801   6500.0                Alugado            Alven  Sim   Sim, 1porta   \n",
       "153802   4500.0  Cedido por empregador            Alven  Sim   Sim, 1porta   \n",
       "153808   8000.0           Próprio PAGO            Alven  Sim  Sim, 2portas   \n",
       "153810   1510.0                Próprio            Alven  Sim   Sim, 1porta   \n",
       "153811   3370.0                Alugado            Alven  Sim   Sim, 1porta   \n",
       "153815   7760.0                Próprio            Alven  Sim  Sim, 2portas   \n",
       "153817   2400.0                Alugado            Alven  Sim  Sim, 2portas   \n",
       "153818   4700.0           Próprio PAGO            Alven  Sim  Sim, 2portas   \n",
       "153819   4775.0                Próprio            Alven  Sim  Sim, 2portas   \n",
       "153823   3242.0                Próprio            Alven  Sim  Sim, 2portas   \n",
       "153830   2000.0           Próprio PAGO            Alven  Sim  Sim, 2portas   \n",
       "153832   2500.0                Alugado            Alven  Sim   Sim, 1porta   \n",
       "153834   8333.0                Próprio            Alven  Sim  Sim, 2portas   \n",
       "153835   7166.0                Próprio            Alven  Sim  Sim, 2portas   \n",
       "153836   2500.0           Próprio PAGO            Alven  Sim  Sim, 2portas   \n",
       "\n",
       "       SENTIUFOME FALTAAL INFRAESTRUTURA  \n",
       "2             Sim     Sim            Sim  \n",
       "3             NaN     Nao            Sim  \n",
       "4             NaN     Nao            Sim  \n",
       "6             NaN     Nao            Sim  \n",
       "7             NaN     Nao            Sim  \n",
       "8             Nao     Sim            Sim  \n",
       "9             Nao     Nao            Sim  \n",
       "10            Nao     Sim            Sim  \n",
       "12            NaN     Nao            Sim  \n",
       "13            NaN     Nao            Sim  \n",
       "14            Nao     Nao            Sim  \n",
       "15            NaN     Nao            Sim  \n",
       "16            NaN     Nao            Sim  \n",
       "18            NaN     Nao            Sim  \n",
       "19            Sim     Sim            Nao  \n",
       "21            NaN     Nao            Sim  \n",
       "22            NaN     Nao            Sim  \n",
       "23            NaN     Nao            Sim  \n",
       "24            NaN     Nao            Sim  \n",
       "25            Nao     Sim            Sim  \n",
       "26            NaN     Nao            Sim  \n",
       "27            Sim     Sim            Sim  \n",
       "29            Nao     Sim            Sim  \n",
       "30            Nao     Sim            Sim  \n",
       "31            Nao     Sim            Sim  \n",
       "33            Nao     Nao            Sim  \n",
       "37            NaN     Nao            Sim  \n",
       "39            NaN     Nao            Nao  \n",
       "40            NaN     Nao            Sim  \n",
       "41            NaN     Nao            Nao  \n",
       "...           ...     ...            ...  \n",
       "153784        NaN     Nao            Sim  \n",
       "153785        NaN     Nao            Sim  \n",
       "153786        NaN     Nao            Sim  \n",
       "153787        NaN     Nao            Sim  \n",
       "153789        NaN     Nao            Sim  \n",
       "153790        NaN     Nao            Sim  \n",
       "153791        NaN     Nao            Sim  \n",
       "153792        NaN     Nao            Sim  \n",
       "153794        NaN     Nao            Sim  \n",
       "153795        NaN     Nao            Sim  \n",
       "153796        NaN     Nao            Sim  \n",
       "153797        NaN     Nao            Sim  \n",
       "153798        NaN     Nao            Sim  \n",
       "153799        NaN     Nao            Sim  \n",
       "153800        NaN     Nao            Sim  \n",
       "153801        NaN     Nao            Sim  \n",
       "153802        NaN     Nao            Sim  \n",
       "153808        NaN     Nao            Sim  \n",
       "153810        Nao     Nao            Sim  \n",
       "153811        NaN     Nao            Sim  \n",
       "153815        NaN     Nao            Sim  \n",
       "153817        NaN     Nao            Sim  \n",
       "153818        NaN     Nao            Sim  \n",
       "153819        NaN     Nao            Sim  \n",
       "153823        NaN     Nao            Sim  \n",
       "153830        NaN     Nao            Sim  \n",
       "153832        NaN     Nao            Sim  \n",
       "153834        NaN     Nao            Sim  \n",
       "153835        NaN     Nao            Sim  \n",
       "153836        NaN     Nao            Sim  \n",
       "\n",
       "[117827 rows x 8 columns]"
      ]
     },
     "execution_count": 329,
     "metadata": {},
     "output_type": "execute_result"
    }
   ],
   "source": [
    "d\n"
   ]
  },
  {
   "cell_type": "markdown",
   "metadata": {},
   "source": [
    "___\n",
    "## Conclusão "
   ]
  },
  {
   "cell_type": "markdown",
   "metadata": {
    "collapsed": true
   },
   "source": [
    "Descreva aqui suas conclusões!"
   ]
  },
  {
   "cell_type": "code",
   "execution_count": null,
   "metadata": {
    "collapsed": true
   },
   "outputs": [],
   "source": []
  }
 ],
 "metadata": {
  "anaconda-cloud": {},
  "kernelspec": {
   "display_name": "Python 3",
   "language": "python",
   "name": "python3"
  },
  "language_info": {
   "codemirror_mode": {
    "name": "ipython",
    "version": 3
   },
   "file_extension": ".py",
   "mimetype": "text/x-python",
   "name": "python",
   "nbconvert_exporter": "python",
   "pygments_lexer": "ipython3",
   "version": "3.6.0"
  }
 },
 "nbformat": 4,
 "nbformat_minor": 1
}
