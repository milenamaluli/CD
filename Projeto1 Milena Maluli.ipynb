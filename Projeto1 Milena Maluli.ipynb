{
 "cells": [
  {
   "cell_type": "markdown",
   "metadata": {},
   "source": [
    "___\n",
    "# Ciência dos Dados - PROJETO 1"
   ]
  },
  {
   "cell_type": "markdown",
   "metadata": {},
   "source": [
    "## Milena Maluli"
   ]
  },
  {
   "cell_type": "markdown",
   "metadata": {},
   "source": [
    "## Segurança Alimentar no Brasil"
   ]
  },
  {
   "cell_type": "markdown",
   "metadata": {},
   "source": [
    "___\n",
    "## Introdução\n",
    "\n",
    "Descreva aqui o que pretende analisar!\n",
    "\n",
    "Capriche no português!! \n",
    "Se quiser pode utilizar pesquisas semelhantes publicadas em sites confiáveis!!\n",
    "\n",
    "http://g1.globo.com/bemestar/noticia/2014/12/72-milhoes-sofrem-com-inseguranca-alimentar-grave-no-pais-diz-pnad-2013.html\n"
   ]
  },
  {
   "cell_type": "markdown",
   "metadata": {},
   "source": [
    "___\n",
    "## Análise e Resultados"
   ]
  },
  {
   "cell_type": "code",
   "execution_count": 12,
   "metadata": {
    "collapsed": true
   },
   "outputs": [],
   "source": [
    "%matplotlib inline\n",
    "import pandas as pd\n",
    "import matplotlib.pyplot as plt\n",
    "import numpy as np\n",
    "import os"
   ]
  },
  {
   "cell_type": "code",
   "execution_count": 13,
   "metadata": {},
   "outputs": [
    {
     "name": "stdout",
     "output_type": "stream",
     "text": [
      "Esperamos trabalhar no diretório\n",
      "C:\\Users\\milen\\OneDrive\\Documentos\\2o SEMESTRE\\CDD\n"
     ]
    }
   ],
   "source": [
    "print('Esperamos trabalhar no diretório')\n",
    "print(os.getcwd())"
   ]
  },
  {
   "cell_type": "code",
   "execution_count": 14,
   "metadata": {},
   "outputs": [],
   "source": [
    "#Se usar o arquivo descompactado\n",
    "#pd.read_csv('DOM2009.csv',sep=',')\n",
    "\n",
    "#Se usar o arquivo compactado como está no dropbox púbico\n",
    "dados=pd.read_csv('DOM2009csv.zip', compression='zip', header=0, sep=',', quotechar='\"')"
   ]
  },
  {
   "cell_type": "code",
   "execution_count": 16,
   "metadata": {},
   "outputs": [
    {
     "data": {
      "text/html": [
       "<div>\n",
       "<table border=\"1\" class=\"dataframe\">\n",
       "  <thead>\n",
       "    <tr style=\"text-align: right;\">\n",
       "      <th></th>\n",
       "      <th>Unnamed: 0</th>\n",
       "      <th>V0101</th>\n",
       "      <th>UF</th>\n",
       "      <th>V0102</th>\n",
       "      <th>V0103</th>\n",
       "      <th>V0104</th>\n",
       "      <th>V0105</th>\n",
       "      <th>V0106</th>\n",
       "      <th>V0201</th>\n",
       "      <th>V0202</th>\n",
       "      <th>...</th>\n",
       "      <th>V2136</th>\n",
       "      <th>V2033</th>\n",
       "      <th>V2034</th>\n",
       "      <th>V2035</th>\n",
       "      <th>V2036</th>\n",
       "      <th>V2037</th>\n",
       "      <th>V2038</th>\n",
       "      <th>V2039</th>\n",
       "      <th>V2041</th>\n",
       "      <th>V9992</th>\n",
       "    </tr>\n",
       "  </thead>\n",
       "  <tbody>\n",
       "    <tr>\n",
       "      <th>0</th>\n",
       "      <td>0</td>\n",
       "      <td>2009</td>\n",
       "      <td>11</td>\n",
       "      <td>15</td>\n",
       "      <td>1</td>\n",
       "      <td>8</td>\n",
       "      <td>NaN</td>\n",
       "      <td>NaN</td>\n",
       "      <td>NaN</td>\n",
       "      <td>NaN</td>\n",
       "      <td>...</td>\n",
       "      <td>NaN</td>\n",
       "      <td>NaN</td>\n",
       "      <td>NaN</td>\n",
       "      <td>NaN</td>\n",
       "      <td>NaN</td>\n",
       "      <td>NaN</td>\n",
       "      <td>NaN</td>\n",
       "      <td>NaN</td>\n",
       "      <td>NaN</td>\n",
       "      <td>20120710</td>\n",
       "    </tr>\n",
       "    <tr>\n",
       "      <th>1</th>\n",
       "      <td>1</td>\n",
       "      <td>2009</td>\n",
       "      <td>11</td>\n",
       "      <td>15</td>\n",
       "      <td>2</td>\n",
       "      <td>8</td>\n",
       "      <td>NaN</td>\n",
       "      <td>NaN</td>\n",
       "      <td>NaN</td>\n",
       "      <td>NaN</td>\n",
       "      <td>...</td>\n",
       "      <td>NaN</td>\n",
       "      <td>NaN</td>\n",
       "      <td>NaN</td>\n",
       "      <td>NaN</td>\n",
       "      <td>NaN</td>\n",
       "      <td>NaN</td>\n",
       "      <td>NaN</td>\n",
       "      <td>NaN</td>\n",
       "      <td>NaN</td>\n",
       "      <td>20120710</td>\n",
       "    </tr>\n",
       "    <tr>\n",
       "      <th>2</th>\n",
       "      <td>2</td>\n",
       "      <td>2009</td>\n",
       "      <td>11</td>\n",
       "      <td>15</td>\n",
       "      <td>3</td>\n",
       "      <td>1</td>\n",
       "      <td>7.0</td>\n",
       "      <td>5.0</td>\n",
       "      <td>1.0</td>\n",
       "      <td>2.0</td>\n",
       "      <td>...</td>\n",
       "      <td>2.0</td>\n",
       "      <td>3.0</td>\n",
       "      <td>3.0</td>\n",
       "      <td>3.0</td>\n",
       "      <td>3.0</td>\n",
       "      <td>3.0</td>\n",
       "      <td>3.0</td>\n",
       "      <td>3.0</td>\n",
       "      <td>1.0</td>\n",
       "      <td>20120710</td>\n",
       "    </tr>\n",
       "    <tr>\n",
       "      <th>3</th>\n",
       "      <td>3</td>\n",
       "      <td>2009</td>\n",
       "      <td>11</td>\n",
       "      <td>15</td>\n",
       "      <td>4</td>\n",
       "      <td>1</td>\n",
       "      <td>3.0</td>\n",
       "      <td>3.0</td>\n",
       "      <td>1.0</td>\n",
       "      <td>2.0</td>\n",
       "      <td>...</td>\n",
       "      <td>NaN</td>\n",
       "      <td>3.0</td>\n",
       "      <td>3.0</td>\n",
       "      <td>1.0</td>\n",
       "      <td>3.0</td>\n",
       "      <td>3.0</td>\n",
       "      <td>3.0</td>\n",
       "      <td>3.0</td>\n",
       "      <td>3.0</td>\n",
       "      <td>20120710</td>\n",
       "    </tr>\n",
       "    <tr>\n",
       "      <th>4</th>\n",
       "      <td>4</td>\n",
       "      <td>2009</td>\n",
       "      <td>11</td>\n",
       "      <td>15</td>\n",
       "      <td>5</td>\n",
       "      <td>1</td>\n",
       "      <td>1.0</td>\n",
       "      <td>1.0</td>\n",
       "      <td>1.0</td>\n",
       "      <td>2.0</td>\n",
       "      <td>...</td>\n",
       "      <td>NaN</td>\n",
       "      <td>3.0</td>\n",
       "      <td>3.0</td>\n",
       "      <td>3.0</td>\n",
       "      <td>1.0</td>\n",
       "      <td>3.0</td>\n",
       "      <td>3.0</td>\n",
       "      <td>3.0</td>\n",
       "      <td>3.0</td>\n",
       "      <td>20120710</td>\n",
       "    </tr>\n",
       "  </tbody>\n",
       "</table>\n",
       "<p>5 rows × 98 columns</p>\n",
       "</div>"
      ],
      "text/plain": [
       "   Unnamed: 0  V0101  UF  V0102  V0103  V0104  V0105  V0106  V0201  V0202  \\\n",
       "0           0   2009  11     15      1      8    NaN    NaN    NaN    NaN   \n",
       "1           1   2009  11     15      2      8    NaN    NaN    NaN    NaN   \n",
       "2           2   2009  11     15      3      1    7.0    5.0    1.0    2.0   \n",
       "3           3   2009  11     15      4      1    3.0    3.0    1.0    2.0   \n",
       "4           4   2009  11     15      5      1    1.0    1.0    1.0    2.0   \n",
       "\n",
       "     ...     V2136  V2033  V2034  V2035  V2036  V2037  V2038  V2039  V2041  \\\n",
       "0    ...       NaN    NaN    NaN    NaN    NaN    NaN    NaN    NaN    NaN   \n",
       "1    ...       NaN    NaN    NaN    NaN    NaN    NaN    NaN    NaN    NaN   \n",
       "2    ...       2.0    3.0    3.0    3.0    3.0    3.0    3.0    3.0    1.0   \n",
       "3    ...       NaN    3.0    3.0    1.0    3.0    3.0    3.0    3.0    3.0   \n",
       "4    ...       NaN    3.0    3.0    3.0    1.0    3.0    3.0    3.0    3.0   \n",
       "\n",
       "      V9992  \n",
       "0  20120710  \n",
       "1  20120710  \n",
       "2  20120710  \n",
       "3  20120710  \n",
       "4  20120710  \n",
       "\n",
       "[5 rows x 98 columns]"
      ]
     },
     "execution_count": 16,
     "metadata": {},
     "output_type": "execute_result"
    }
   ],
   "source": [
    "dados.head()"
   ]
  },
  {
   "cell_type": "code",
   "execution_count": 46,
   "metadata": {
    "collapsed": true
   },
   "outputs": [],
   "source": [
    "dados.V4620 = dados.V4620.astype('float')\n",
    "\n",
    "dados.V0202 = dados.V0202.astype('category')\n",
    "\n",
    "dados.V0203 = dados.V0203.astype('category')\n",
    "\n",
    "dados.V0221 = dados.V0221.astype('category')\n",
    "\n",
    "dados.V0207 = dados.V0207.astype('category')\n",
    "\n",
    "dados.V2105 = dados.V2105.astype('category')\n",
    "\n",
    "dados.V0228 = dados.V0228.astype('category')"
   ]
  },
  {
   "cell_type": "code",
   "execution_count": 47,
   "metadata": {},
   "outputs": [],
   "source": [
    "\n",
    "dados.V0202.cat.categories = (['Casa', 'Ap','Dom'])\n",
    "dados.V0203.cat.categories = (['Alven', 'Mad Aparelhada', 'Taipa','Mad Aproveitada','Palha','Outro Material'])\n",
    "dados.V0221.cat.categories = (['Sim', 'Nao'])\n",
    "dados.V0207.cat.categories = (['Próprio PAGO', 'Próprio', 'Alugado','Cedido por empregador','Cedido','Outro'])\n",
    "dados.V2105.cat.categories = (['Sim', 'Não'])\n",
    "dados.V0228.cat.categories = (['Sim, 2portas', 'Sim, 1porta','Não'])"
   ]
  },
  {
   "cell_type": "code",
   "execution_count": 48,
   "metadata": {},
   "outputs": [],
   "source": [
    "d= dados.loc[:,[\"V4620\",\"V0202\",\"V0203\",\"V0221\",\"V0207\",\"V2105\",\"V0228\"]]\n"
   ]
  },
  {
   "cell_type": "code",
   "execution_count": 49,
   "metadata": {},
   "outputs": [
    {
     "data": {
      "text/html": [
       "<div>\n",
       "<table border=\"1\" class=\"dataframe\">\n",
       "  <thead>\n",
       "    <tr style=\"text-align: right;\">\n",
       "      <th></th>\n",
       "      <th>RENDA</th>\n",
       "      <th>TIPO</th>\n",
       "      <th>MATERIAL</th>\n",
       "      <th>ÁGUA CANALIZADA</th>\n",
       "      <th>OCUPAÇÃO</th>\n",
       "      <th>FALTA AL POR $</th>\n",
       "      <th>GELADEIRA</th>\n",
       "    </tr>\n",
       "  </thead>\n",
       "  <tbody>\n",
       "    <tr>\n",
       "      <th>0</th>\n",
       "      <td>NaN</td>\n",
       "      <td>NaN</td>\n",
       "      <td>NaN</td>\n",
       "      <td>NaN</td>\n",
       "      <td>NaN</td>\n",
       "      <td>NaN</td>\n",
       "      <td>NaN</td>\n",
       "    </tr>\n",
       "    <tr>\n",
       "      <th>1</th>\n",
       "      <td>NaN</td>\n",
       "      <td>NaN</td>\n",
       "      <td>NaN</td>\n",
       "      <td>NaN</td>\n",
       "      <td>NaN</td>\n",
       "      <td>NaN</td>\n",
       "      <td>NaN</td>\n",
       "    </tr>\n",
       "    <tr>\n",
       "      <th>2</th>\n",
       "      <td>7.0</td>\n",
       "      <td>Casa</td>\n",
       "      <td>Mad Aproveitada</td>\n",
       "      <td>Sim</td>\n",
       "      <td>Próprio PAGO</td>\n",
       "      <td>Sim</td>\n",
       "      <td>Sim, 1porta</td>\n",
       "    </tr>\n",
       "    <tr>\n",
       "      <th>3</th>\n",
       "      <td>3.0</td>\n",
       "      <td>Casa</td>\n",
       "      <td>Alven</td>\n",
       "      <td>Sim</td>\n",
       "      <td>Próprio PAGO</td>\n",
       "      <td>Não</td>\n",
       "      <td>Sim, 2portas</td>\n",
       "    </tr>\n",
       "    <tr>\n",
       "      <th>4</th>\n",
       "      <td>1.0</td>\n",
       "      <td>Casa</td>\n",
       "      <td>Alven</td>\n",
       "      <td>Sim</td>\n",
       "      <td>Próprio PAGO</td>\n",
       "      <td>Não</td>\n",
       "      <td>Sim, 1porta</td>\n",
       "    </tr>\n",
       "  </tbody>\n",
       "</table>\n",
       "</div>"
      ],
      "text/plain": [
       "   RENDA  TIPO         MATERIAL ÁGUA CANALIZADA      OCUPAÇÃO FALTA AL POR $  \\\n",
       "0    NaN   NaN              NaN             NaN           NaN            NaN   \n",
       "1    NaN   NaN              NaN             NaN           NaN            NaN   \n",
       "2    7.0  Casa  Mad Aproveitada             Sim  Próprio PAGO            Sim   \n",
       "3    3.0  Casa            Alven             Sim  Próprio PAGO            Não   \n",
       "4    1.0  Casa            Alven             Sim  Próprio PAGO            Não   \n",
       "\n",
       "      GELADEIRA  \n",
       "0           NaN  \n",
       "1           NaN  \n",
       "2   Sim, 1porta  \n",
       "3  Sim, 2portas  \n",
       "4   Sim, 1porta  "
      ]
     },
     "execution_count": 49,
     "metadata": {},
     "output_type": "execute_result"
    }
   ],
   "source": [
    "d.columns = ['RENDA', 'TIPO','MATERIAL','ÁGUA CANALIZADA','OCUPAÇÃO','FALTA AL POR $', 'GELADEIRA']\n",
    "d.head()"
   ]
  },
  {
   "cell_type": "markdown",
   "metadata": {},
   "source": [
    "___\n",
    "## Conclusão "
   ]
  },
  {
   "cell_type": "markdown",
   "metadata": {
    "collapsed": true
   },
   "source": [
    "Descreva aqui suas conclusões!"
   ]
  },
  {
   "cell_type": "code",
   "execution_count": null,
   "metadata": {
    "collapsed": true
   },
   "outputs": [],
   "source": []
  }
 ],
 "metadata": {
  "anaconda-cloud": {},
  "kernelspec": {
   "display_name": "Python 3",
   "language": "python",
   "name": "python3"
  },
  "language_info": {
   "codemirror_mode": {
    "name": "ipython",
    "version": 3
   },
   "file_extension": ".py",
   "mimetype": "text/x-python",
   "name": "python",
   "nbconvert_exporter": "python",
   "pygments_lexer": "ipython3",
   "version": "3.6.0"
  }
 },
 "nbformat": 4,
 "nbformat_minor": 1
}
