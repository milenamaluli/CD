{
 "cells": [
  {
   "cell_type": "markdown",
   "metadata": {},
   "source": [
    "___\n",
    "# Ciência dos Dados - PROJETO 1"
   ]
  },
  {
   "cell_type": "markdown",
   "metadata": {},
   "source": [
    "## Milena Maluli                                                                                                                     -    2C"
   ]
  },
  {
   "cell_type": "markdown",
   "metadata": {},
   "source": [
    "## Segurança Alimentar no Brasil"
   ]
  },
  {
   "cell_type": "markdown",
   "metadata": {},
   "source": [
    "___\n",
    "## Introdução\n",
    "\n",
    "Esse estudo pretende analisar a segurança alimentar dos brasileiiros a partir de dados que relacionam renda e moradia. Analisa os brasileiros que declararam e possuem menor que 100000 reais mensais. O material de suas casas, a  presença de geladeira e água canalizada, são alguns aspectos da moradia que estão sendo estudados.\n",
    "Alêm destes aspectos, é visto também a renda desses moradores e se eles já deixaram de comprar comida por falta de dinheiro. \n",
    "\n",
    "Para esse estudo, foi usado a PNAD de 2009 e 2013. Em 2009 o PIB brasileiro sofreu uma retração de 0,2%, devido a crise mundial. Já em 2013, o PIB cresceu em 2,3%. A comparação da segurança alimentar nesses dois periodos permite averiguar as interferências da economia na vida da população, e se, realmente, as condições de vida das pessoas tem melhorado e a segurança alimentar aumentado.\n",
    "\n",
    "Para traçar esse perfil do brasileiro que sofre insegurança alimentar, foi relacionado o material da casa e a renda da pessoa que ficou sem alimento por não ter dinheiro para comprá-lo. Também foi relacionada sua renda e o fato desta pessoa já ter sentido fome, mesmo com a presença de geladeira e água canalizada na casa. Essas comparações permitem analisar como a estrutura da casa do brasileiro, desde seu material quanto aos recursos que tem nela, se relacionam com a segurança alimentar."
   ]
  },
  {
   "cell_type": "markdown",
   "metadata": {},
   "source": [
    "___\n",
    "## Análise e Resultados"
   ]
  },
  {
   "cell_type": "markdown",
   "metadata": {},
   "source": [
    "### Base de Dados"
   ]
  },
  {
   "cell_type": "code",
   "execution_count": 42,
   "metadata": {
    "collapsed": true
   },
   "outputs": [],
   "source": [
    "%matplotlib inline\n",
    "import pandas as pd\n",
    "import matplotlib.pyplot as plt\n",
    "import numpy as np\n",
    "import os\n",
    "from numpy import arange"
   ]
  },
  {
   "cell_type": "code",
   "execution_count": 43,
   "metadata": {},
   "outputs": [
    {
     "name": "stdout",
     "output_type": "stream",
     "text": [
      "Esperamos trabalhar no diretório\n",
      "C:\\Users\\milen\\OneDrive\\Documentos\\2o SEMESTRE\\CDD\\CD\n"
     ]
    }
   ],
   "source": [
    "print('Esperamos trabalhar no diretório')\n",
    "print(os.getcwd())"
   ]
  },
  {
   "cell_type": "code",
   "execution_count": 44,
   "metadata": {
    "collapsed": true
   },
   "outputs": [],
   "source": [
    "dados=pd.read_csv('DOM2009csv.zip', compression='zip', header=0, sep=',', quotechar='\"')\n",
    "dados2=pd.read_csv('DOM2013csv.zip', compression='zip', header=0, sep=',', quotechar='\"')"
   ]
  },
  {
   "cell_type": "code",
   "execution_count": 45,
   "metadata": {
    "collapsed": true
   },
   "outputs": [],
   "source": [
    "#2009\n",
    "dados.V4621 = dados.V4621.astype('float')\n",
    "dados.V2117 = dados.V2117.astype('category')\n",
    "dados.V2132 = dados.V2132.astype('category')\n",
    "dados.V0203 = dados.V0203.astype('category')\n",
    "dados.V0221 = dados.V0221.astype('category')\n",
    "dados.V2105 = dados.V2105.astype('category')\n",
    "dados.V0228 = dados.V0228.astype('category')"
   ]
  },
  {
   "cell_type": "code",
   "execution_count": 46,
   "metadata": {
    "collapsed": true
   },
   "outputs": [],
   "source": [
    "#2013\n",
    "\n",
    "dados2.V4621 = dados.V4621.astype('float')\n",
    "dados2.V2117 = dados.V2117.astype('category')\n",
    "dados2.V2132 = dados.V2132.astype('category')\n",
    "dados2.V0203 = dados.V0203.astype('category')\n",
    "dados2.V0221 = dados.V0221.astype('category')\n",
    "dados2.V2105 = dados.V2105.astype('category')\n",
    "dados2.V0228 = dados.V0228.astype('category')"
   ]
  },
  {
   "cell_type": "code",
   "execution_count": 47,
   "metadata": {
    "collapsed": true
   },
   "outputs": [],
   "source": [
    "#2009\n",
    "\n",
    "dados.V2117.cat.categories = (['Sim', 'Nao'])\n",
    "dados.V2132.cat.categories = (['Sim', 'Nao'])\n",
    "dados.V0203.cat.categories = (['Alven', 'Mad Aparelhada', 'Taipa','Mad Aproveitada','Palha','Outro Material'])\n",
    "dados.V0221.cat.categories = (['Sim', 'Nao'])\n",
    "dados.V2105.cat.categories = (['Sim', 'Nao'])\n",
    "dados.V0228.cat.categories = (['Sim, 2portas', 'Sim, 1porta','Nao'])\n",
    "dados.V2117.cat.categories = (['Sim', 'Nao'])\n"
   ]
  },
  {
   "cell_type": "code",
   "execution_count": 48,
   "metadata": {
    "collapsed": true
   },
   "outputs": [],
   "source": [
    "#2013\n",
    "\n",
    "dados2.V2117.cat.categories = (['Sim', 'Nao'])\n",
    "dados2.V2132.cat.categories = (['Sim', 'Nao'])\n",
    "dados2.V0203.cat.categories = (['Alven', 'Mad Aparelhada', 'Taipa','Mad Aproveitada','Palha','Outro Material'])\n",
    "dados2.V0221.cat.categories = (['Sim', 'Nao'])\n",
    "dados2.V2105.cat.categories = (['Sim', 'Nao'])\n",
    "dados2.V0228.cat.categories = (['Sim, 2portas', 'Sim, 1porta','Nao'])\n",
    "dados2.V2117.cat.categories = (['Sim', 'Nao'])\n"
   ]
  },
  {
   "cell_type": "code",
   "execution_count": 49,
   "metadata": {
    "collapsed": true
   },
   "outputs": [],
   "source": [
    "d= dados.loc[:,[\"V4621\",\"V0203\",\"V0221\",\"V0228\",\"V2117\",\"V2105\"]]\n",
    "d2=dados2.loc[:,[\"V4621\",\"V0203\",\"V0221\",\"V0228\",\"V2117\",\"V2105\"]]"
   ]
  },
  {
   "cell_type": "code",
   "execution_count": 50,
   "metadata": {},
   "outputs": [
    {
     "name": "stdout",
     "output_type": "stream",
     "text": [
      "2009\n"
     ]
    },
    {
     "data": {
      "text/html": [
       "<div>\n",
       "<table border=\"1\" class=\"dataframe\">\n",
       "  <thead>\n",
       "    <tr style=\"text-align: right;\">\n",
       "      <th></th>\n",
       "      <th>RENDA</th>\n",
       "      <th>MATERIAL</th>\n",
       "      <th>AGUA</th>\n",
       "      <th>GELADEIRA</th>\n",
       "      <th>SENTIUFOME</th>\n",
       "      <th>FALTAAL</th>\n",
       "    </tr>\n",
       "  </thead>\n",
       "  <tbody>\n",
       "    <tr>\n",
       "      <th>2</th>\n",
       "      <td>118.0</td>\n",
       "      <td>Mad Aproveitada</td>\n",
       "      <td>Sim</td>\n",
       "      <td>Sim, 1porta</td>\n",
       "      <td>Sim</td>\n",
       "      <td>Sim</td>\n",
       "    </tr>\n",
       "    <tr>\n",
       "      <th>3</th>\n",
       "      <td>1053.0</td>\n",
       "      <td>Alven</td>\n",
       "      <td>Sim</td>\n",
       "      <td>Sim, 2portas</td>\n",
       "      <td>NaN</td>\n",
       "      <td>Nao</td>\n",
       "    </tr>\n",
       "    <tr>\n",
       "      <th>4</th>\n",
       "      <td>930.0</td>\n",
       "      <td>Alven</td>\n",
       "      <td>Sim</td>\n",
       "      <td>Sim, 1porta</td>\n",
       "      <td>NaN</td>\n",
       "      <td>Nao</td>\n",
       "    </tr>\n",
       "    <tr>\n",
       "      <th>6</th>\n",
       "      <td>232.0</td>\n",
       "      <td>Mad Aparelhada</td>\n",
       "      <td>Sim</td>\n",
       "      <td>Sim, 1porta</td>\n",
       "      <td>NaN</td>\n",
       "      <td>Nao</td>\n",
       "    </tr>\n",
       "    <tr>\n",
       "      <th>7</th>\n",
       "      <td>248.0</td>\n",
       "      <td>Mad Aparelhada</td>\n",
       "      <td>Sim</td>\n",
       "      <td>Sim, 2portas</td>\n",
       "      <td>NaN</td>\n",
       "      <td>Nao</td>\n",
       "    </tr>\n",
       "  </tbody>\n",
       "</table>\n",
       "</div>"
      ],
      "text/plain": [
       "    RENDA         MATERIAL AGUA     GELADEIRA SENTIUFOME FALTAAL\n",
       "2   118.0  Mad Aproveitada  Sim   Sim, 1porta        Sim     Sim\n",
       "3  1053.0            Alven  Sim  Sim, 2portas        NaN     Nao\n",
       "4   930.0            Alven  Sim   Sim, 1porta        NaN     Nao\n",
       "6   232.0   Mad Aparelhada  Sim   Sim, 1porta        NaN     Nao\n",
       "7   248.0   Mad Aparelhada  Sim  Sim, 2portas        NaN     Nao"
      ]
     },
     "execution_count": 50,
     "metadata": {},
     "output_type": "execute_result"
    }
   ],
   "source": [
    "print('2009')\n",
    "d.columns = ['RENDA','MATERIAL', 'AGUA', 'GELADEIRA','SENTIUFOME','FALTAAL']\n",
    "d=d.dropna(subset=['RENDA'])\n",
    "d=d[d.RENDA<100000]\n",
    "d.head()"
   ]
  },
  {
   "cell_type": "code",
   "execution_count": 51,
   "metadata": {},
   "outputs": [
    {
     "data": {
      "text/html": [
       "<div>\n",
       "<table border=\"1\" class=\"dataframe\">\n",
       "  <thead>\n",
       "    <tr style=\"text-align: right;\">\n",
       "      <th></th>\n",
       "      <th>RENDA</th>\n",
       "    </tr>\n",
       "  </thead>\n",
       "  <tbody>\n",
       "    <tr>\n",
       "      <th>count</th>\n",
       "      <td>117827.000000</td>\n",
       "    </tr>\n",
       "    <tr>\n",
       "      <th>mean</th>\n",
       "      <td>760.880605</td>\n",
       "    </tr>\n",
       "    <tr>\n",
       "      <th>std</th>\n",
       "      <td>1355.601794</td>\n",
       "    </tr>\n",
       "    <tr>\n",
       "      <th>min</th>\n",
       "      <td>0.000000</td>\n",
       "    </tr>\n",
       "    <tr>\n",
       "      <th>25%</th>\n",
       "      <td>232.000000</td>\n",
       "    </tr>\n",
       "    <tr>\n",
       "      <th>50%</th>\n",
       "      <td>451.000000</td>\n",
       "    </tr>\n",
       "    <tr>\n",
       "      <th>75%</th>\n",
       "      <td>797.000000</td>\n",
       "    </tr>\n",
       "    <tr>\n",
       "      <th>max</th>\n",
       "      <td>94669.000000</td>\n",
       "    </tr>\n",
       "  </tbody>\n",
       "</table>\n",
       "</div>"
      ],
      "text/plain": [
       "               RENDA\n",
       "count  117827.000000\n",
       "mean      760.880605\n",
       "std      1355.601794\n",
       "min         0.000000\n",
       "25%       232.000000\n",
       "50%       451.000000\n",
       "75%       797.000000\n",
       "max     94669.000000"
      ]
     },
     "execution_count": 51,
     "metadata": {},
     "output_type": "execute_result"
    }
   ],
   "source": [
    "d.describe()"
   ]
  },
  {
   "cell_type": "code",
   "execution_count": 52,
   "metadata": {},
   "outputs": [
    {
     "name": "stdout",
     "output_type": "stream",
     "text": [
      "2013\n"
     ]
    },
    {
     "data": {
      "text/html": [
       "<div>\n",
       "<table border=\"1\" class=\"dataframe\">\n",
       "  <thead>\n",
       "    <tr style=\"text-align: right;\">\n",
       "      <th></th>\n",
       "      <th>RENDA</th>\n",
       "      <th>MATERIAL</th>\n",
       "      <th>AGUA</th>\n",
       "      <th>GELADEIRA</th>\n",
       "      <th>SENTIUFOME</th>\n",
       "      <th>FALTAAL</th>\n",
       "    </tr>\n",
       "  </thead>\n",
       "  <tbody>\n",
       "    <tr>\n",
       "      <th>2</th>\n",
       "      <td>118.0</td>\n",
       "      <td>Mad Aproveitada</td>\n",
       "      <td>Sim</td>\n",
       "      <td>Sim, 1porta</td>\n",
       "      <td>Sim</td>\n",
       "      <td>Sim</td>\n",
       "    </tr>\n",
       "    <tr>\n",
       "      <th>3</th>\n",
       "      <td>1053.0</td>\n",
       "      <td>Alven</td>\n",
       "      <td>Sim</td>\n",
       "      <td>Sim, 2portas</td>\n",
       "      <td>NaN</td>\n",
       "      <td>Nao</td>\n",
       "    </tr>\n",
       "    <tr>\n",
       "      <th>4</th>\n",
       "      <td>930.0</td>\n",
       "      <td>Alven</td>\n",
       "      <td>Sim</td>\n",
       "      <td>Sim, 1porta</td>\n",
       "      <td>NaN</td>\n",
       "      <td>Nao</td>\n",
       "    </tr>\n",
       "    <tr>\n",
       "      <th>6</th>\n",
       "      <td>232.0</td>\n",
       "      <td>Mad Aparelhada</td>\n",
       "      <td>Sim</td>\n",
       "      <td>Sim, 1porta</td>\n",
       "      <td>NaN</td>\n",
       "      <td>Nao</td>\n",
       "    </tr>\n",
       "    <tr>\n",
       "      <th>7</th>\n",
       "      <td>248.0</td>\n",
       "      <td>Mad Aparelhada</td>\n",
       "      <td>Sim</td>\n",
       "      <td>Sim, 2portas</td>\n",
       "      <td>NaN</td>\n",
       "      <td>Nao</td>\n",
       "    </tr>\n",
       "  </tbody>\n",
       "</table>\n",
       "</div>"
      ],
      "text/plain": [
       "    RENDA         MATERIAL AGUA     GELADEIRA SENTIUFOME FALTAAL\n",
       "2   118.0  Mad Aproveitada  Sim   Sim, 1porta        Sim     Sim\n",
       "3  1053.0            Alven  Sim  Sim, 2portas        NaN     Nao\n",
       "4   930.0            Alven  Sim   Sim, 1porta        NaN     Nao\n",
       "6   232.0   Mad Aparelhada  Sim   Sim, 1porta        NaN     Nao\n",
       "7   248.0   Mad Aparelhada  Sim  Sim, 2portas        NaN     Nao"
      ]
     },
     "execution_count": 52,
     "metadata": {},
     "output_type": "execute_result"
    }
   ],
   "source": [
    "print('2013')\n",
    "d2.columns = ['RENDA','MATERIAL', 'AGUA', 'GELADEIRA','SENTIUFOME','FALTAAL']\n",
    "d2=d2.dropna(subset=['RENDA'])\n",
    "d2=d2[d2.RENDA<100000]\n",
    "d2.head()\n"
   ]
  },
  {
   "cell_type": "code",
   "execution_count": 53,
   "metadata": {},
   "outputs": [
    {
     "data": {
      "text/html": [
       "<div>\n",
       "<table border=\"1\" class=\"dataframe\">\n",
       "  <thead>\n",
       "    <tr style=\"text-align: right;\">\n",
       "      <th></th>\n",
       "      <th>RENDA</th>\n",
       "    </tr>\n",
       "  </thead>\n",
       "  <tbody>\n",
       "    <tr>\n",
       "      <th>count</th>\n",
       "      <td>113705.000000</td>\n",
       "    </tr>\n",
       "    <tr>\n",
       "      <th>mean</th>\n",
       "      <td>734.821485</td>\n",
       "    </tr>\n",
       "    <tr>\n",
       "      <th>std</th>\n",
       "      <td>1279.015057</td>\n",
       "    </tr>\n",
       "    <tr>\n",
       "      <th>min</th>\n",
       "      <td>0.000000</td>\n",
       "    </tr>\n",
       "    <tr>\n",
       "      <th>25%</th>\n",
       "      <td>232.000000</td>\n",
       "    </tr>\n",
       "    <tr>\n",
       "      <th>50%</th>\n",
       "      <td>450.000000</td>\n",
       "    </tr>\n",
       "    <tr>\n",
       "      <th>75%</th>\n",
       "      <td>775.000000</td>\n",
       "    </tr>\n",
       "    <tr>\n",
       "      <th>max</th>\n",
       "      <td>94669.000000</td>\n",
       "    </tr>\n",
       "  </tbody>\n",
       "</table>\n",
       "</div>"
      ],
      "text/plain": [
       "               RENDA\n",
       "count  113705.000000\n",
       "mean      734.821485\n",
       "std      1279.015057\n",
       "min         0.000000\n",
       "25%       232.000000\n",
       "50%       450.000000\n",
       "75%       775.000000\n",
       "max     94669.000000"
      ]
     },
     "execution_count": 53,
     "metadata": {},
     "output_type": "execute_result"
    }
   ],
   "source": [
    "d2.describe()"
   ]
  },
  {
   "cell_type": "code",
   "execution_count": 54,
   "metadata": {
    "collapsed": true
   },
   "outputs": [],
   "source": [
    "d.to_csv('DataFramee1.csv', sep=';')"
   ]
  },
  {
   "cell_type": "markdown",
   "metadata": {},
   "source": [
    "\n",
    "### MATERIAL DA CASA X CARÊNCIA DE ALIMENTO POR FALTA DE DINHEIRO\n"
   ]
  },
  {
   "cell_type": "markdown",
   "metadata": {},
   "source": [
    " A análise do material da casa do brasileiro e se nessa casa já faltou alimento por não ter dinheiro para comprá-lo permite entender qual o tipo de casa em que a insegurança alimentar está mais presente.\n",
    "\n",
    "\n",
    "Qual a relação do material da casa e a quantidade de pessoas que tem carência de alimento por não poder comprar? \n",
    "Tem casas feitas de material mais caro mas que, mesmo assim, sentem falta de alimento por não ter dinheiro?\n",
    "Qual o material utilizado na construção da casa em que mais ocorre a carência de alimento por falta de dinheiro?"
   ]
  },
  {
   "cell_type": "code",
   "execution_count": 55,
   "metadata": {},
   "outputs": [
    {
     "name": "stdout",
     "output_type": "stream",
     "text": [
      "Falta al por $         Sim        Nao\n",
      "MATERIAL                             \n",
      "Alven            16.683853  83.316147\n",
      "Mad Aparelhada   20.882921  79.117079\n",
      "Taipa            53.185328  46.814672\n",
      "Mad Aproveitada  37.795276  62.204724\n",
      "Palha            38.888889  61.111111\n",
      "Outro Material   34.391534  65.608466\n",
      "All              17.532042  82.467958\n"
     ]
    }
   ],
   "source": [
    "#ANÁLISE SÓ DE 2009\n",
    "ctrf= (pd.crosstab(d.MATERIAL,d.FALTAAL,margins=True,rownames=['MATERIAL'], colnames=['Falta al por $'], normalize='index')*100)\n",
    "print(ctrf)"
   ]
  },
  {
   "cell_type": "code",
   "execution_count": 56,
   "metadata": {},
   "outputs": [
    {
     "name": "stdout",
     "output_type": "stream",
     "text": [
      "Falta al por $         Sim        Nao\n",
      "MATERIAL                             \n",
      "Alven            16.857238  83.142762\n",
      "Mad Aparelhada   20.904645  79.095355\n",
      "Taipa            53.236715  46.763285\n",
      "Mad Aproveitada  37.634409  62.365591\n",
      "Palha            38.888889  61.111111\n",
      "Outro Material   34.574468  65.425532\n",
      "All              17.715338  82.284662\n"
     ]
    }
   ],
   "source": [
    "#ANÁLISE SÓ DE 2013\n",
    "ctrf2= (pd.crosstab(d2.MATERIAL,d2.FALTAAL,margins=True,rownames=['MATERIAL'], colnames=['Falta al por $'], normalize='index')*100)\n",
    "print(ctrf2)"
   ]
  },
  {
   "cell_type": "code",
   "execution_count": 57,
   "metadata": {},
   "outputs": [
    {
     "data": {
      "text/plain": [
       "<matplotlib.text.Text at 0x132ef080e48>"
      ]
     },
     "execution_count": 57,
     "metadata": {},
     "output_type": "execute_result"
    },
    {
     "data": {
      "image/png": "[encoded data removed]",
      "text/plain": [
       "<matplotlib.figure.Figure at 0x132effbdfd0>"
      ]
     },
     "metadata": {},
     "output_type": "display_data"
    },
    {
     "data": {
      "image/png": "[encoded data removed]",
      "text/plain": [
       "<matplotlib.figure.Figure at 0x132ef197278>"
      ]
     },
     "metadata": {},
     "output_type": "display_data"
    }
   ],
   "source": [
    "#Comparação\n",
    "ctrf= (pd.crosstab(d.MATERIAL,d.FALTAAL,margins=True,rownames=['MATERIAL'], colnames=['Falta al por $'], normalize='index')*100)\n",
    "ctrf.plot(kind='bar', stacked=True)\n",
    "plt.title('Material de construção das casas em relação a \\n falta de alimentação por não ter dinheiro em 2009')\n",
    "\n",
    "ctrf2= (pd.crosstab(d2.MATERIAL,d2.FALTAAL,margins=True,rownames=['MATERIAL'], colnames=['Falta al por $'], normalize='index')*100)\n",
    "ctrf2.plot(kind='bar', stacked=True)\n",
    "plt.title('Material de construção das casas em relação a \\n falta de alimentação por não ter dinheiro em 2013')"
   ]
  },
  {
   "cell_type": "markdown",
   "metadata": {},
   "source": [
    "   As casas feitas de Alvenaria são as que apresentam menor índice de carência de alimento por não ter dinheiro, enquanto as casas de Taipa apresentam uma grande porcentagem de pessoas que deixaram de comprar alimentos por não terem dinheiro. Pode-se pereceber que quanto melhor o material da casa, menor o numero de pessoas que deixaram de comprar comida pela falta de dinheiro. Além disso, pode-se perceber que a diferença entre 2009 e 2013 foi muito pequena, a melhora na economia não afetou um grupo significativo de pessoas, fazendo com que não seja significativa essa diferença, pela análise do gráfico."
   ]
  },
  {
   "cell_type": "markdown",
   "metadata": {},
   "source": [
    "### RENDA X CARÊNCIA DE ALIMENTO POR FALTA DINHEIRO"
   ]
  },
  {
   "cell_type": "markdown",
   "metadata": {},
   "source": [
    "Essa relação da renda da pessoa e se já faltou alimento em sua casa por não ter dinheiro para comprá-lo, permite analisar se, realmente, quanto maior a renda mais condições a pessoa tem de comprar alimento. Também é observado se a melhora na economia incentivou um aumento na renda dos brasileiros.\n",
    "\n",
    "\n"
   ]
  },
  {
   "cell_type": "code",
   "execution_count": 58,
   "metadata": {},
   "outputs": [
    {
     "data": {
      "text/plain": [
       "<matplotlib.text.Text at 0x132efb2f1d0>"
      ]
     },
     "execution_count": 58,
     "metadata": {},
     "output_type": "execute_result"
    },
    {
     "data": {
      "image/png": "[encoded data removed]",
      "text/plain": [
       "<matplotlib.figure.Figure at 0x132f02346a0>"
      ]
     },
     "metadata": {},
     "output_type": "display_data"
    }
   ],
   "source": [
    "#ANÁLISE SÓ DE 2013\n",
    "faixa = arange(0,100000,250)\n",
    "\n",
    "plt.subplot(121)\n",
    "plot = d2.RENDA[d2.FALTAAL=='Sim'].plot.hist(bins=faixa,title='HISTOGRAMA FALTAAL',figsize=(10,5), normed=1, alpha=0.5)\n",
    "plt.ylabel('Densidade')\n",
    "plt.xlabel('Renda')\n",
    "plt.ylim(0,0.0025)\n",
    "plt.xlim(0,10000)\n",
    "plt.title('Faltou alimento por não ter dinheiro \\n para comprá-lo (2013)')\n",
    "\n",
    "plt.subplot(122)\n",
    "plot = d2.RENDA[d2.FALTAAL=='Nao'].plot.hist(bins=faixa,title='HISTOGRAMA SEM FALTAAL',figsize=(10,5), normed=1, alpha=0.5)\n",
    "plt.ylabel('Densidade')\n",
    "plt.xlabel('Renda')\n",
    "plt.ylim(0,0.0025)\n",
    "plt.xlim(0,10000)\n",
    "plt.title('Não faltou alimento por não ter dinheiro \\n para comprá-lo (2013)')"
   ]
  },
  {
   "cell_type": "markdown",
   "metadata": {},
   "source": [
    "Observando os gráficos acima, podemos perceber que a maior quantidade de dados estão localizados no intervalo de renda(0,5000). Para uma melhor interpretação e comparação dos dados será adotado um limite nessa faixa."
   ]
  },
  {
   "cell_type": "code",
   "execution_count": 59,
   "metadata": {},
   "outputs": [
    {
     "data": {
      "image/png": "[encoded data removed]",
      "text/plain": [
       "<matplotlib.figure.Figure at 0x13280e43f98>"
      ]
     },
     "metadata": {},
     "output_type": "display_data"
    }
   ],
   "source": [
    "#COMPARAÇÃO\n",
    "fig = plt.figure(figsize=(10,10))\n",
    "\n",
    "plt.subplot(221)\n",
    "plot = d.RENDA[d.FALTAAL=='Sim'].plot.hist(bins=faixa,title='Faltou alimento por não ter dinheiro \\n para comprá-lo  (2009)', normed=1, alpha=0.5)\n",
    "plt.ylim(0,0.0025)\n",
    "plt.xlim(0,5000)\n",
    "\n",
    "\n",
    "plt.subplot(222)\n",
    "plot = d2.RENDA[d2.FALTAAL=='Sim'].plot.hist(bins=faixa,title='Faltou alimento por não ter dinheiro \\n para comprá-lo  (2013)', normed=1, alpha=0.5)\n",
    "plt.ylim(0,0.0025)\n",
    "plt.xlim(0,5000)\n",
    "\n",
    "\n",
    "plt.subplot(223)\n",
    "plot = d.RENDA[d.FALTAAL=='Nao'].plot.hist(bins=faixa,title='Não faltou alimento por não ter dinheiro \\n para comprá-lo (2009)', normed=1, alpha=0.5)\n",
    "plt.ylim(0,0.0025)\n",
    "plt.xlim(0,5000)\n",
    "\n",
    "\n",
    "plt.subplot(224)\n",
    "plot = d2.RENDA[d2.FALTAAL=='Nao'].plot.hist(bins=faixa,title='Não faltou alimento por não ter dinheiro \\n para comprá-lo (2013)',normed=1, alpha=0.5)\n",
    "plt.ylim(0,0.0025)\n",
    "plt.xlim(0,5000)\n",
    "\n",
    "plt.tight_layout()\n",
    "plt.show()"
   ]
  },
  {
   "cell_type": "markdown",
   "metadata": {},
   "source": [
    "Pode-se perceber que a maior quantidade de que pessoas sofreram falta de alimento por não ter dinheiro para comprá-lo se encontram na faixa de 0 a 1000 reais. A frequência máxima é de aproximadamente 0,0024 , na faixa de 0 a 250 reais. As pessoas em que a falta de alimento não se deu por não ter dinhero para comprar se apresentam em diversas faixas de renda, sendo mais espalhadas, chegando até 4500, aproximadamente. Essas apresentam uma frequência máxima de aproximadamente 0,0012, na faixa de 250 a 500 reais.\n",
    "\n",
    "A comparação entre esses gráficos mostra que a carência de alimento pela falta de dinheiro está mais concentrada nas pessoas de menor renda e que de 2009 e 2013 a melhora na economia não atingiu um número significativo de pessoas para que o gráfico fosse visivelmente alterado.\n"
   ]
  },
  {
   "cell_type": "markdown",
   "metadata": {},
   "source": [
    "### RENDA  X   ÁGUA + GELADEIRA"
   ]
  },
  {
   "cell_type": "markdown",
   "metadata": {},
   "source": [
    "Essa análise relaciona a renda com a presença de geladeira e água canalizada na casa. Foi criada uma variável INFRAESTRUTURA que abrange a presença desses dois aspectos na casa."
   ]
  },
  {
   "cell_type": "code",
   "execution_count": 60,
   "metadata": {},
   "outputs": [
    {
     "data": {
      "text/html": [
       "<div>\n",
       "<table border=\"1\" class=\"dataframe\">\n",
       "  <thead>\n",
       "    <tr style=\"text-align: right;\">\n",
       "      <th></th>\n",
       "      <th>RENDA</th>\n",
       "      <th>MATERIAL</th>\n",
       "      <th>AGUA</th>\n",
       "      <th>GELADEIRA</th>\n",
       "      <th>SENTIUFOME</th>\n",
       "      <th>FALTAAL</th>\n",
       "      <th>INFRAESTRUTURA</th>\n",
       "    </tr>\n",
       "  </thead>\n",
       "  <tbody>\n",
       "    <tr>\n",
       "      <th>2</th>\n",
       "      <td>118.0</td>\n",
       "      <td>Mad Aproveitada</td>\n",
       "      <td>Sim</td>\n",
       "      <td>Sim, 1porta</td>\n",
       "      <td>Sim</td>\n",
       "      <td>Sim</td>\n",
       "      <td>Sim</td>\n",
       "    </tr>\n",
       "    <tr>\n",
       "      <th>3</th>\n",
       "      <td>1053.0</td>\n",
       "      <td>Alven</td>\n",
       "      <td>Sim</td>\n",
       "      <td>Sim, 2portas</td>\n",
       "      <td>NaN</td>\n",
       "      <td>Nao</td>\n",
       "      <td>Sim</td>\n",
       "    </tr>\n",
       "    <tr>\n",
       "      <th>4</th>\n",
       "      <td>930.0</td>\n",
       "      <td>Alven</td>\n",
       "      <td>Sim</td>\n",
       "      <td>Sim, 1porta</td>\n",
       "      <td>NaN</td>\n",
       "      <td>Nao</td>\n",
       "      <td>Sim</td>\n",
       "    </tr>\n",
       "    <tr>\n",
       "      <th>6</th>\n",
       "      <td>232.0</td>\n",
       "      <td>Mad Aparelhada</td>\n",
       "      <td>Sim</td>\n",
       "      <td>Sim, 1porta</td>\n",
       "      <td>NaN</td>\n",
       "      <td>Nao</td>\n",
       "      <td>Sim</td>\n",
       "    </tr>\n",
       "    <tr>\n",
       "      <th>7</th>\n",
       "      <td>248.0</td>\n",
       "      <td>Mad Aparelhada</td>\n",
       "      <td>Sim</td>\n",
       "      <td>Sim, 2portas</td>\n",
       "      <td>NaN</td>\n",
       "      <td>Nao</td>\n",
       "      <td>Sim</td>\n",
       "    </tr>\n",
       "  </tbody>\n",
       "</table>\n",
       "</div>"
      ],
      "text/plain": [
       "    RENDA         MATERIAL AGUA     GELADEIRA SENTIUFOME FALTAAL  \\\n",
       "2   118.0  Mad Aproveitada  Sim   Sim, 1porta        Sim     Sim   \n",
       "3  1053.0            Alven  Sim  Sim, 2portas        NaN     Nao   \n",
       "4   930.0            Alven  Sim   Sim, 1porta        NaN     Nao   \n",
       "6   232.0   Mad Aparelhada  Sim   Sim, 1porta        NaN     Nao   \n",
       "7   248.0   Mad Aparelhada  Sim  Sim, 2portas        NaN     Nao   \n",
       "\n",
       "  INFRAESTRUTURA  \n",
       "2            Sim  \n",
       "3            Sim  \n",
       "4            Sim  \n",
       "6            Sim  \n",
       "7            Sim  "
      ]
     },
     "execution_count": 60,
     "metadata": {},
     "output_type": "execute_result"
    }
   ],
   "source": [
    "#INFRAESTRUTURA\n",
    "\n",
    "d.loc[(d.AGUA=='Sim') & (d.GELADEIRA=='Sim, 2portas'),'INFRAESTRUTURA'] = 'Sim'\n",
    "d.loc[(d.AGUA=='Sim') & (d.GELADEIRA=='Sim, 1porta'),'INFRAESTRUTURA'] = 'Sim'\n",
    "d.loc[(d.AGUA=='Nao') | (d.GELADEIRA=='Nao'),'INFRAESTRUTURA'] = 'Nao'\n",
    "d.head()"
   ]
  },
  {
   "cell_type": "code",
   "execution_count": 61,
   "metadata": {},
   "outputs": [
    {
     "data": {
      "text/html": [
       "<div>\n",
       "<table border=\"1\" class=\"dataframe\">\n",
       "  <thead>\n",
       "    <tr style=\"text-align: right;\">\n",
       "      <th></th>\n",
       "      <th>RENDA</th>\n",
       "      <th>MATERIAL</th>\n",
       "      <th>AGUA</th>\n",
       "      <th>GELADEIRA</th>\n",
       "      <th>SENTIUFOME</th>\n",
       "      <th>FALTAAL</th>\n",
       "      <th>INFRAESTRUTURA</th>\n",
       "    </tr>\n",
       "  </thead>\n",
       "  <tbody>\n",
       "    <tr>\n",
       "      <th>2</th>\n",
       "      <td>118.0</td>\n",
       "      <td>Mad Aproveitada</td>\n",
       "      <td>Sim</td>\n",
       "      <td>Sim, 1porta</td>\n",
       "      <td>Sim</td>\n",
       "      <td>Sim</td>\n",
       "      <td>Sim</td>\n",
       "    </tr>\n",
       "    <tr>\n",
       "      <th>3</th>\n",
       "      <td>1053.0</td>\n",
       "      <td>Alven</td>\n",
       "      <td>Sim</td>\n",
       "      <td>Sim, 2portas</td>\n",
       "      <td>NaN</td>\n",
       "      <td>Nao</td>\n",
       "      <td>Sim</td>\n",
       "    </tr>\n",
       "    <tr>\n",
       "      <th>4</th>\n",
       "      <td>930.0</td>\n",
       "      <td>Alven</td>\n",
       "      <td>Sim</td>\n",
       "      <td>Sim, 1porta</td>\n",
       "      <td>NaN</td>\n",
       "      <td>Nao</td>\n",
       "      <td>Sim</td>\n",
       "    </tr>\n",
       "    <tr>\n",
       "      <th>6</th>\n",
       "      <td>232.0</td>\n",
       "      <td>Mad Aparelhada</td>\n",
       "      <td>Sim</td>\n",
       "      <td>Sim, 1porta</td>\n",
       "      <td>NaN</td>\n",
       "      <td>Nao</td>\n",
       "      <td>Sim</td>\n",
       "    </tr>\n",
       "    <tr>\n",
       "      <th>7</th>\n",
       "      <td>248.0</td>\n",
       "      <td>Mad Aparelhada</td>\n",
       "      <td>Sim</td>\n",
       "      <td>Sim, 2portas</td>\n",
       "      <td>NaN</td>\n",
       "      <td>Nao</td>\n",
       "      <td>Sim</td>\n",
       "    </tr>\n",
       "  </tbody>\n",
       "</table>\n",
       "</div>"
      ],
      "text/plain": [
       "    RENDA         MATERIAL AGUA     GELADEIRA SENTIUFOME FALTAAL  \\\n",
       "2   118.0  Mad Aproveitada  Sim   Sim, 1porta        Sim     Sim   \n",
       "3  1053.0            Alven  Sim  Sim, 2portas        NaN     Nao   \n",
       "4   930.0            Alven  Sim   Sim, 1porta        NaN     Nao   \n",
       "6   232.0   Mad Aparelhada  Sim   Sim, 1porta        NaN     Nao   \n",
       "7   248.0   Mad Aparelhada  Sim  Sim, 2portas        NaN     Nao   \n",
       "\n",
       "  INFRAESTRUTURA  \n",
       "2            Sim  \n",
       "3            Sim  \n",
       "4            Sim  \n",
       "6            Sim  \n",
       "7            Sim  "
      ]
     },
     "execution_count": 61,
     "metadata": {},
     "output_type": "execute_result"
    }
   ],
   "source": [
    "#INFRAESTRUTURA\n",
    "d2.loc[(d2.AGUA=='Sim') & (d2.GELADEIRA=='Sim, 2portas'),'INFRAESTRUTURA'] = 'Sim'\n",
    "d2.loc[(d2.AGUA=='Sim') & (d2.GELADEIRA=='Sim, 1porta'),'INFRAESTRUTURA'] = 'Sim'\n",
    "d2.loc[(d2.AGUA=='Nao') | (d2.GELADEIRA=='Nao'),'INFRAESTRUTURA'] = 'Nao'\n",
    "d2.head()"
   ]
  },
  {
   "cell_type": "code",
   "execution_count": 62,
   "metadata": {},
   "outputs": [
    {
     "data": {
      "text/plain": [
       "count    117827.000000\n",
       "mean        760.880605\n",
       "std        1355.601794\n",
       "min           0.000000\n",
       "25%         232.000000\n",
       "50%         451.000000\n",
       "75%         797.000000\n",
       "max       94669.000000\n",
       "Name: RENDA, dtype: float64"
      ]
     },
     "execution_count": 62,
     "metadata": {},
     "output_type": "execute_result"
    }
   ],
   "source": [
    "#RENDA\n",
    "d.RENDA.describe()"
   ]
  },
  {
   "cell_type": "markdown",
   "metadata": {},
   "source": [
    "Ao tabelar os valores de renda, adotei rendas menores que 500000 reais. Por perceber que o valor máximo era de 94669 reais, determinei como limite de renda o 100000 reais. "
   ]
  },
  {
   "cell_type": "code",
   "execution_count": 63,
   "metadata": {},
   "outputs": [
    {
     "data": {
      "text/plain": [
       "<matplotlib.text.Text at 0x132ddd81470>"
      ]
     },
     "execution_count": 63,
     "metadata": {},
     "output_type": "execute_result"
    },
    {
     "data": {
      "image/png": "[encoded data removed]",
      "text/plain": [
       "<matplotlib.figure.Figure at 0x132f0e7f4e0>"
      ]
     },
     "metadata": {},
     "output_type": "display_data"
    }
   ],
   "source": [
    "# k= raiz de 121163 = 348 = 350\n",
    "# amplitude= 94669\n",
    "#270 \n",
    "faixa = arange(0,100000,250)\n",
    "\n",
    "plot = d.RENDA.plot.hist(bins=faixa,title='HISTOGRAMA RENDA',figsize=(20,5), normed=1, alpha=0.5)\n",
    "plt.ylabel('Densidade')\n",
    "plt.xlabel('Renda')"
   ]
  },
  {
   "cell_type": "markdown",
   "metadata": {},
   "source": [
    "Para uma melhor interpretação, foi diminuido o limite da faixa de renda."
   ]
  },
  {
   "cell_type": "code",
   "execution_count": 64,
   "metadata": {},
   "outputs": [
    {
     "data": {
      "text/plain": [
       "<matplotlib.text.Text at 0x1328259ae10>"
      ]
     },
     "execution_count": 64,
     "metadata": {},
     "output_type": "execute_result"
    },
    {
     "data": {
      "image/png": "[encoded data removed]",
      "text/plain": [
       "<matplotlib.figure.Figure at 0x13282541f28>"
      ]
     },
     "metadata": {},
     "output_type": "display_data"
    }
   ],
   "source": [
    "faixa = arange(0,10000,250)\n",
    "\n",
    "plot = d.RENDA.plot.hist(bins=faixa,title='HISTOGRAMA RENDA',figsize=(10,5), normed=1, alpha=0.5)\n",
    "plt.ylabel('Densidade')\n",
    "plt.xlabel('Renda')"
   ]
  },
  {
   "cell_type": "code",
   "execution_count": 65,
   "metadata": {},
   "outputs": [
    {
     "data": {
      "image/png": "[encoded data removed]",
      "text/plain": [
       "<matplotlib.figure.Figure at 0x13283b63f60>"
      ]
     },
     "metadata": {},
     "output_type": "display_data"
    }
   ],
   "source": [
    "#COMPARAÇÃO\n",
    "fig = plt.figure(figsize=(10,10))\n",
    "\n",
    "plt.subplot(221)\n",
    "plot = d.RENDA[d.INFRAESTRUTURA=='Sim'].plot.hist(bins=faixa,title='Tem Infraestrutura em 2009', normed=1, alpha=0.5)\n",
    "plt.ylabel('Densidade')\n",
    "plt.xlabel('Renda')\n",
    "plt.ylim(0,0.0025)\n",
    "plt.xlim(0,5000)\n",
    "\n",
    "plt.subplot(222)\n",
    "plot = d2.RENDA[d.INFRAESTRUTURA=='Sim'].plot.hist(bins=faixa,title='Tem Infraestrutura em 2013', normed=1, alpha=0.5)\n",
    "plt.ylabel('Densidade')\n",
    "plt.xlabel('Renda')\n",
    "plt.ylim(0,0.0025)\n",
    "plt.xlim(0,5000)\n",
    "\n",
    "plt.subplot(223)\n",
    "plot = d.RENDA[d.INFRAESTRUTURA=='Nao'].plot.hist(bins=faixa,title='Não tem Infraestrutura em 2009', normed=1, alpha=0.5)\n",
    "plt.ylabel('Densidade')\n",
    "plt.xlabel('Renda')\n",
    "plt.ylim(0,0.0025)\n",
    "plt.xlim(0,5000)\n",
    "\n",
    "plt.subplot(224)\n",
    "plot = d2.RENDA[d.INFRAESTRUTURA=='Nao'].plot.hist(bins=faixa,title='Não tem Infraestrutura em 2013', normed=1, alpha=0.5)\n",
    "plt.ylabel('Densidade')\n",
    "plt.xlabel('Renda')\n",
    "plt.ylim(0,0.0025)\n",
    "plt.xlim(0,5000)\n",
    "\n",
    "\n",
    "plt.tight_layout()\n",
    "plt.show()"
   ]
  },
  {
   "cell_type": "markdown",
   "metadata": {},
   "source": [
    "Pode-se perceber que as pessoas que não tem infraestrutura estão localizadas nas faixas de menor renda, principalemte de 0 a 500 reais, aproximadamente. Já as que possuem infraestrutura estão mais distribuidas entre as faixas de renda, principalmente entre 0 a 750 reais.\n",
    "Uma maior densidade populacional possui infraestrutura entre as faixas de 0 a 5000 reais, mas há uma maior densidade de pessoas sem infraestrutura na faixa de 0 a 250 reais."
   ]
  },
  {
   "cell_type": "markdown",
   "metadata": {},
   "source": [
    "### FOME X INFRAESTRUTURA"
   ]
  },
  {
   "cell_type": "markdown",
   "metadata": {},
   "source": [
    "Ao relacionar se a pessoa ja sentiu fome, mesmo tendo em suas casas a presença de geladeira e água canalizada, permite averiguar se ter essa infraestrutura ajuda a cuidar e a armazenar alimentos, evitando com que a pessoa sinta fome."
   ]
  },
  {
   "cell_type": "code",
   "execution_count": 66,
   "metadata": {},
   "outputs": [
    {
     "data": {
      "text/plain": [
       "Nao    30264\n",
       "Sim     7415\n",
       "Name: SENTIUFOME, dtype: int64"
      ]
     },
     "execution_count": 66,
     "metadata": {},
     "output_type": "execute_result"
    }
   ],
   "source": [
    "d.SENTIUFOME.value_counts()"
   ]
  },
  {
   "cell_type": "code",
   "execution_count": 67,
   "metadata": {},
   "outputs": [
    {
     "name": "stdout",
     "output_type": "stream",
     "text": [
      "Sentiu fome?                      Sim        Nao\n",
      "Presença de Infraestrutura                      \n",
      "Nao                         36.108263  63.891737\n",
      "Sim                         17.183297  82.816703\n",
      "All                         19.638724  80.361276\n"
     ]
    }
   ],
   "source": [
    "#ANÁLISE SÓ DE 2009\n",
    "\n",
    "ctgf= (pd.crosstab(d.INFRAESTRUTURA,d.SENTIUFOME,margins=True,rownames=['Presença de Infraestrutura'], colnames=['Sentiu fome?'], normalize='index')*100)\n",
    "print(ctgf)"
   ]
  },
  {
   "cell_type": "code",
   "execution_count": 68,
   "metadata": {},
   "outputs": [
    {
     "name": "stdout",
     "output_type": "stream",
     "text": [
      "Sentiu fome?                      Sim        Nao\n",
      "Presença de Infraestrutura                      \n",
      "Nao                         36.158309  63.841691\n",
      "Sim                         17.288765  82.711235\n",
      "All                         19.775029  80.224971\n"
     ]
    }
   ],
   "source": [
    "#ANÁLISE SÓ DE 2013\n",
    "\n",
    "ctgf2= (pd.crosstab(d2.INFRAESTRUTURA,d2.SENTIUFOME,margins=True,rownames=['Presença de Infraestrutura'], colnames=['Sentiu fome?'], normalize='index')*100)\n",
    "print(ctgf2)"
   ]
  },
  {
   "cell_type": "code",
   "execution_count": 69,
   "metadata": {},
   "outputs": [
    {
     "data": {
      "text/plain": [
       "<matplotlib.text.Text at 0x13283422630>"
      ]
     },
     "execution_count": 69,
     "metadata": {},
     "output_type": "execute_result"
    },
    {
     "data": {
      "image/png": "[encoded data removed]",
      "text/plain": [
       "<matplotlib.figure.Figure at 0x13282644320>"
      ]
     },
     "metadata": {},
     "output_type": "display_data"
    },
    {
     "data": {
      "image/png": "[encoded data removed]",
      "text/plain": [
       "<matplotlib.figure.Figure at 0x132833e14e0>"
      ]
     },
     "metadata": {},
     "output_type": "display_data"
    }
   ],
   "source": [
    "ctgf= (pd.crosstab(d.INFRAESTRUTURA,d.SENTIUFOME,margins=True,rownames=['Presença de Infraestrutura'], colnames=['Sentiu fome?'], normalize='index')*100)\n",
    "ctgf.plot(kind='bar', stacked=True)\n",
    "plt.title('Pessoas que sentiram fome relacionadas a \\npresença de Infraestrutura em 2009')\n",
    "\n",
    "ctgf2= (pd.crosstab(d2.INFRAESTRUTURA,d2.SENTIUFOME,margins=True,rownames=['Presença de Infraestrutura'], colnames=['Sentiu fome?'], normalize='index')*100)\n",
    "ctgf2.plot(kind='bar', stacked=True)\n",
    "plt.title('Pessoas que sentiram fome relacionadas a \\npresença de Infraestrutura em 2013')"
   ]
  },
  {
   "cell_type": "markdown",
   "metadata": {},
   "source": [
    "A análise dos gráficos mostra que nas casas onde há infraestrutura é menor a porcentagem de pessoas que sentem fome,se comparadas a quem não tem infraestrutura."
   ]
  },
  {
   "cell_type": "markdown",
   "metadata": {},
   "source": [
    "___\n",
    "## Conclusão "
   ]
  },
  {
   "cell_type": "markdown",
   "metadata": {
    "collapsed": true
   },
   "source": [
    "  Ao analisar os diferentes tipos de gráficos feitos de variáveis das PNAD 2009 e a 2013, pode-se perceber que a insegurança alimentar brasileira está relacionada tanto ao material com o qual a casa foi construida, quanto a presença de água canalizada.\n",
    "  \n",
    "  Sobre o material de contrução, as casas feitas de Alvenaria são as que apresentam menor índice de carência de alimento por falta de dinheiro, enquanto as casas de Taipa apresentam o maior. Pode-se pereceber que quanto melhor o material da casa, menor o numero de pessoas que deixaram de comprar comida pela falta de dinheiro. \n",
    "   Observando a renda, pode-se perceber que a maioria das pessoas que sofreram essa falta de alimento se encontram nas faixas de menor renda. As pessoas em que a falta de alimento não se deu por não ter dinhero para comprar se apresentam em diversas faixas de renda. Estão mais espalhadas e presentes também nas faixas de maior renda (até 5000 reais). Assim, a carência de alimento pela falta de dinheiro está mais concentrada nas pessoas de menor renda.\n",
    "    Em relação a infraestrutura, as pessoas que não a tem são as de menor renda, diferente das que possuem, que estão mais distribuidas pelas diferentes faixas de renda.Também, nas casas onde há infraestrutura, é menor a porcentagem de pessoas que sentem fome, se comparadas a quem não tem infraestrutura."
   ]
  },
  {
   "cell_type": "markdown",
   "metadata": {
    "collapsed": true
   },
   "source": [
    "   Ao analisar as características de cada ano, é possíver perceber que a média de renda em 2009, 760.88 reais, é maior que a de 2013, que é 734.82 reais. Porém, o desvio padrão de 2009 é maior que o de 2013, 1355.60 e 1279.01, respectivamente. Assim, mesmo havendo uma melhora na situação econômica da população, a diferença entre 2009 e 2013 foi muito pequena, e a melhora na economia não afetou um grupo significativo de pessoas, fazendo com que não seja significativa essa diferença, pela análise do gráfico. \n"
   ]
  }
 ],
 "metadata": {
  "anaconda-cloud": {},
  "kernelspec": {
   "display_name": "Python 3",
   "language": "python",
   "name": "python3"
  },
  "language_info": {
   "codemirror_mode": {
    "name": "ipython",
    "version": 3
   },
   "file_extension": ".py",
   "mimetype": "text/x-python",
   "name": "python",
   "nbconvert_exporter": "python",
   "pygments_lexer": "ipython3",
   "version": "3.6.0"
  }
 },
 "nbformat": 4,
 "nbformat_minor": 1
}
