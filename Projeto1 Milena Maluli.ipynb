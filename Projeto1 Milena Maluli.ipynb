{
 "cells": [
  {
   "cell_type": "markdown",
   "metadata": {},
   "source": [
    "___\n",
    "# Ciência dos Dados - PROJETO 1"
   ]
  },
  {
   "cell_type": "markdown",
   "metadata": {},
   "source": [
    "## Milena Maluli"
   ]
  },
  {
   "cell_type": "markdown",
   "metadata": {},
   "source": [
    "## Segurança Alimentar no Brasil"
   ]
  },
  {
   "cell_type": "markdown",
   "metadata": {},
   "source": [
    "___\n",
    "## Introdução\n",
    "\n",
    "Descreva aqui o que pretende analisar!\n",
    "\n",
    "Capriche no português!! \n",
    "Se quiser pode utilizar pesquisas semelhantes publicadas em sites confiáveis!!\n",
    "\n",
    "http://g1.globo.com/bemestar/noticia/2014/12/72-milhoes-sofrem-com-inseguranca-alimentar-grave-no-pais-diz-pnad-2013.html\n"
   ]
  },
  {
   "cell_type": "markdown",
   "metadata": {},
   "source": [
    "___\n",
    "## Análise e Resultados"
   ]
  },
  {
   "cell_type": "code",
   "execution_count": 1,
   "metadata": {
    "collapsed": true
   },
   "outputs": [],
   "source": [
    "%matplotlib inline\n",
    "import pandas as pd\n",
    "import matplotlib.pyplot as plt\n",
    "import numpy as np\n",
    "import os"
   ]
  },
  {
   "cell_type": "code",
   "execution_count": 2,
   "metadata": {},
   "outputs": [
    {
     "name": "stdout",
     "output_type": "stream",
     "text": [
      "Esperamos trabalhar no diretório\n",
      "C:\\Users\\milen\\OneDrive\\Documentos\\2o SEMESTRE\\CDD\\CD\n"
     ]
    }
   ],
   "source": [
    "print('Esperamos trabalhar no diretório')\n",
    "print(os.getcwd())"
   ]
  },
  {
   "cell_type": "code",
   "execution_count": 3,
   "metadata": {
    "collapsed": true
   },
   "outputs": [],
   "source": [
    "#Se usar o arquivo descompactado\n",
    "#pd.read_csv('DOM2009.csv',sep=',')\n",
    "\n",
    "#Se usar o arquivo compactado como está no dropbox púbico\n",
    "dados=pd.read_csv('DOM2009csv.zip', compression='zip', header=0, sep=',', quotechar='\"')"
   ]
  },
  {
   "cell_type": "code",
   "execution_count": null,
   "metadata": {
    "collapsed": true
   },
   "outputs": [],
   "source": []
  },
  {
   "cell_type": "code",
   "execution_count": 4,
   "metadata": {
    "collapsed": true
   },
   "outputs": [],
   "source": [
    "dados.V4621 = dados.V4621.astype('float')\n",
    "\n",
    "#dados.V0202 = dados.V0202.astype('category')\n",
    "dados.V2117 = dados.V2117.astype('category')\n",
    "\n",
    "dados.V2132 = dados.V2132.astype('category')\n",
    "\n",
    "dados.V0203 = dados.V0203.astype('category')\n",
    "\n",
    "dados.V0221 = dados.V0221.astype('category')\n",
    "\n",
    "dados.V0207 = dados.V0207.astype('category')\n",
    "\n",
    "dados.V2105 = dados.V2105.astype('category')\n",
    "\n",
    "dados.V0228 = dados.V0228.astype('category')"
   ]
  },
  {
   "cell_type": "code",
   "execution_count": 5,
   "metadata": {
    "collapsed": true
   },
   "outputs": [],
   "source": [
    "\n",
    "#dados.V0202.cat.categories = (['Casa', 'Ap','Dom'])\n",
    "dados.V2117.cat.categories = (['Sim', 'Nao'])\n",
    "dados.V2132.cat.categories = (['Sim', 'Nao'])\n",
    "dados.V0203.cat.categories = (['Alven', 'Mad Aparelhada', 'Taipa','Mad Aproveitada','Palha','Outro Material'])\n",
    "dados.V0221.cat.categories = (['Sim', 'Nao'])\n",
    "dados.V0207.cat.categories = (['Próprio PAGO', 'Próprio', 'Alugado','Cedido por empregador','Cedido','Outro'])\n",
    "dados.V2105.cat.categories = (['Sim', 'Não'])\n",
    "dados.V0228.cat.categories = (['Sim, 2portas', 'Sim, 1porta','Não'])"
   ]
  },
  {
   "cell_type": "code",
   "execution_count": 6,
   "metadata": {
    "collapsed": true
   },
   "outputs": [],
   "source": [
    "\n",
    "dados.loc[(dados.V2117=='Sim') & (dados.V2132=='Sim'),'SENTIUFOME'] = 'Sim'\n",
    "dados.loc[(dados.V2117=='Não') | (dados.V2132=='Não'),'SENTIUFOME'] = 'Não'"
   ]
  },
  {
   "cell_type": "code",
   "execution_count": 7,
   "metadata": {
    "collapsed": true
   },
   "outputs": [],
   "source": [
    "d= dados.loc[:,[\"V4621\",\"V0207\",\"V0203\",\"V0221\",\"V0228\",\"SENTIUFOME\",\"V2105\"]]\n"
   ]
  },
  {
   "cell_type": "code",
   "execution_count": 8,
   "metadata": {},
   "outputs": [
    {
     "data": {
      "text/html": [
       "<div>\n",
       "<table border=\"1\" class=\"dataframe\">\n",
       "  <thead>\n",
       "    <tr style=\"text-align: right;\">\n",
       "      <th></th>\n",
       "      <th>RENDA</th>\n",
       "      <th>OCUPAÇÃO</th>\n",
       "      <th>MATERIAL</th>\n",
       "      <th>ÁGUA CANALIZADA</th>\n",
       "      <th>GELADEIRA</th>\n",
       "      <th>SENTIUFOME</th>\n",
       "      <th>FALTAAL</th>\n",
       "    </tr>\n",
       "  </thead>\n",
       "  <tbody>\n",
       "    <tr>\n",
       "      <th>0</th>\n",
       "      <td>NaN</td>\n",
       "      <td>NaN</td>\n",
       "      <td>NaN</td>\n",
       "      <td>NaN</td>\n",
       "      <td>NaN</td>\n",
       "      <td>NaN</td>\n",
       "      <td>NaN</td>\n",
       "    </tr>\n",
       "    <tr>\n",
       "      <th>1</th>\n",
       "      <td>NaN</td>\n",
       "      <td>NaN</td>\n",
       "      <td>NaN</td>\n",
       "      <td>NaN</td>\n",
       "      <td>NaN</td>\n",
       "      <td>NaN</td>\n",
       "      <td>NaN</td>\n",
       "    </tr>\n",
       "    <tr>\n",
       "      <th>2</th>\n",
       "      <td>118.0</td>\n",
       "      <td>Próprio PAGO</td>\n",
       "      <td>Mad Aproveitada</td>\n",
       "      <td>Sim</td>\n",
       "      <td>Sim, 1porta</td>\n",
       "      <td>NaN</td>\n",
       "      <td>Sim</td>\n",
       "    </tr>\n",
       "    <tr>\n",
       "      <th>3</th>\n",
       "      <td>1053.0</td>\n",
       "      <td>Próprio PAGO</td>\n",
       "      <td>Alven</td>\n",
       "      <td>Sim</td>\n",
       "      <td>Sim, 2portas</td>\n",
       "      <td>NaN</td>\n",
       "      <td>Não</td>\n",
       "    </tr>\n",
       "    <tr>\n",
       "      <th>4</th>\n",
       "      <td>930.0</td>\n",
       "      <td>Próprio PAGO</td>\n",
       "      <td>Alven</td>\n",
       "      <td>Sim</td>\n",
       "      <td>Sim, 1porta</td>\n",
       "      <td>NaN</td>\n",
       "      <td>Não</td>\n",
       "    </tr>\n",
       "  </tbody>\n",
       "</table>\n",
       "</div>"
      ],
      "text/plain": [
       "    RENDA      OCUPAÇÃO         MATERIAL ÁGUA CANALIZADA     GELADEIRA  \\\n",
       "0     NaN           NaN              NaN             NaN           NaN   \n",
       "1     NaN           NaN              NaN             NaN           NaN   \n",
       "2   118.0  Próprio PAGO  Mad Aproveitada             Sim   Sim, 1porta   \n",
       "3  1053.0  Próprio PAGO            Alven             Sim  Sim, 2portas   \n",
       "4   930.0  Próprio PAGO            Alven             Sim   Sim, 1porta   \n",
       "\n",
       "  SENTIUFOME FALTAAL  \n",
       "0        NaN     NaN  \n",
       "1        NaN     NaN  \n",
       "2        NaN     Sim  \n",
       "3        NaN     Não  \n",
       "4        NaN     Não  "
      ]
     },
     "execution_count": 8,
     "metadata": {},
     "output_type": "execute_result"
    }
   ],
   "source": [
    "d.columns = ['RENDA','OCUPAÇÃO','MATERIAL', 'ÁGUA CANALIZADA', 'GELADEIRA','SENTIUFOME','FALTAAL']\n",
    "d.head()"
   ]
  },
  {
   "cell_type": "code",
   "execution_count": 16,
   "metadata": {},
   "outputs": [],
   "source": [
    "d.to_csv('DataFramee1.csv', sep=';')"
   ]
  },
  {
   "cell_type": "code",
   "execution_count": 9,
   "metadata": {},
   "outputs": [
    {
     "name": "stdout",
     "output_type": "stream",
     "text": [
      "Sim     21043\n",
      "Não    100120\n",
      "Name: FALTAAL, dtype: int64\n"
     ]
    }
   ],
   "source": [
    "count = d.FALTAAL.value_counts(sort=False)\n",
    "print(count)"
   ]
  },
  {
   "cell_type": "code",
   "execution_count": 10,
   "metadata": {},
   "outputs": [
    {
     "name": "stdout",
     "output_type": "stream",
     "text": [
      "Falta al por $  Sim  Não  All\n",
      "RENDA                        \n",
      "0.000000e+00    2.6  1.1  1.3\n",
      "1.000000e+00    0.0  0.0  0.0\n",
      "5.000000e+00    0.0  0.0  0.0\n",
      "6.000000e+00    0.0  0.0  0.0\n",
      "7.000000e+00    0.0  0.0  0.0\n",
      "8.000000e+00    0.0  0.0  0.0\n",
      "1.000000e+01    0.0  0.0  0.0\n",
      "1.100000e+01    0.1  0.0  0.0\n",
      "1.200000e+01    0.0  0.0  0.0\n",
      "1.300000e+01    0.1  0.0  0.0\n",
      "1.400000e+01    0.1  0.0  0.0\n",
      "1.500000e+01    0.1  0.0  0.0\n",
      "1.600000e+01    0.1  0.0  0.0\n",
      "1.700000e+01    0.1  0.0  0.0\n",
      "1.800000e+01    0.1  0.0  0.0\n",
      "1.900000e+01    0.0  0.0  0.0\n",
      "2.000000e+01    0.2  0.0  0.0\n",
      "2.100000e+01    0.0  0.0  0.0\n",
      "2.200000e+01    0.3  0.0  0.1\n",
      "2.300000e+01    0.1  0.0  0.0\n",
      "2.400000e+01    0.1  0.0  0.0\n",
      "2.500000e+01    0.2  0.0  0.1\n",
      "2.600000e+01    0.3  0.0  0.1\n",
      "2.700000e+01    0.1  0.0  0.0\n",
      "2.800000e+01    0.3  0.1  0.1\n",
      "2.900000e+01    0.1  0.0  0.0\n",
      "3.000000e+01    0.4  0.1  0.1\n",
      "3.100000e+01    0.1  0.0  0.0\n",
      "3.200000e+01    0.1  0.0  0.0\n",
      "3.300000e+01    0.4  0.0  0.1\n",
      "...             ...  ...  ...\n",
      "2.260000e+04    0.0  0.0  0.0\n",
      "2.300000e+04    0.0  0.0  0.0\n",
      "2.310000e+04    0.0  0.0  0.0\n",
      "2.375000e+04    0.0  0.0  0.0\n",
      "2.420000e+04    0.0  0.0  0.0\n",
      "2.456000e+04    0.0  0.0  0.0\n",
      "2.500000e+04    0.0  0.0  0.0\n",
      "2.526000e+04    0.0  0.0  0.0\n",
      "2.566600e+04    0.0  0.0  0.0\n",
      "2.612500e+04    0.0  0.0  0.0\n",
      "2.685000e+04    0.0  0.0  0.0\n",
      "2.700000e+04    0.0  0.0  0.0\n",
      "2.900700e+04    0.0  0.0  0.0\n",
      "2.925000e+04    0.0  0.0  0.0\n",
      "2.935000e+04    0.0  0.0  0.0\n",
      "3.024000e+04    0.0  0.0  0.0\n",
      "3.150000e+04    0.0  0.0  0.0\n",
      "3.190000e+04    0.0  0.0  0.0\n",
      "3.333300e+04    0.0  0.0  0.0\n",
      "3.660000e+04    0.0  0.0  0.0\n",
      "4.000000e+04    0.0  0.0  0.0\n",
      "4.400000e+04    0.0  0.0  0.0\n",
      "4.541500e+04    0.0  0.0  0.0\n",
      "5.000000e+04    0.0  0.0  0.0\n",
      "5.710000e+04    0.0  0.0  0.0\n",
      "6.500000e+04    0.0  0.0  0.0\n",
      "7.400000e+04    0.0  0.0  0.0\n",
      "8.500000e+04    0.0  0.0  0.0\n",
      "9.466900e+04    0.0  0.0  0.0\n",
      "1.000000e+12    1.7  3.0  2.8\n",
      "\n",
      "[3484 rows x 3 columns]\n"
     ]
    },
    {
     "data": {
      "image/png": "[encoded data removed]",
      "text/plain": [
       "<matplotlib.figure.Figure at 0x14ee1471a20>"
      ]
     },
     "metadata": {},
     "output_type": "display_data"
    },
    {
     "data": {
      "text/plain": [
       "<matplotlib.figure.Figure at 0x14ee1471d68>"
      ]
     },
     "metadata": {},
     "output_type": "display_data"
    }
   ],
   "source": [
    "ctrf= (pd.crosstab(d.RENDA,d.FALTAAL,margins=True,rownames=['RENDA'], colnames=['Falta al por $'], normalize='columns')*100).round(decimals=1)\n",
    "print(ctrf)\n",
    "ctrf.plot(kind='bar', stacked=True)\n",
    "fig = plt.figure(figsize=(15, 15)) #tamanho do gráfico\n",
    "#plt.subplot(131) numero de linhas, colunas, e posição do gráfico. ajuda na comparação\n",
    "\n"
   ]
  },
  {
   "cell_type": "code",
   "execution_count": 11,
   "metadata": {},
   "outputs": [
    {
     "data": {
      "image/png": "[encoded data removed]",
      "text/plain": [
       "<matplotlib.figure.Figure at 0x14ee2169c18>"
      ]
     },
     "metadata": {},
     "output_type": "display_data"
    }
   ],
   "source": [
    "plot = ctrf.plot(kind='bar',title='Renda e Falta de Alimento',figsize=(6, 6))"
   ]
  },
  {
   "cell_type": "code",
   "execution_count": 12,
   "metadata": {},
   "outputs": [
    {
     "ename": "SyntaxError",
     "evalue": "positional argument follows keyword argument (<ipython-input-12-c77f8c43bf49>, line 3)",
     "output_type": "error",
     "traceback": [
      "\u001b[0;36m  File \u001b[0;32m\"<ipython-input-12-c77f8c43bf49>\"\u001b[0;36m, line \u001b[0;32m3\u001b[0m\n\u001b[0;31m    ctrf.plot(kind='pie',autopct='%.1f',legend=False, figsize(7,7))\u001b[0m\n\u001b[0m                                                     ^\u001b[0m\n\u001b[0;31mSyntaxError\u001b[0m\u001b[0;31m:\u001b[0m positional argument follows keyword argument\n"
     ]
    }
   ],
   "source": [
    "#fig = plt.figure(figsize=(15, 5))\n",
    "#subplots=True\n",
    "ctrf.plot(kind='pie',autopct='%.1f',legend=False, figsize(7,7))\n",
    "#plt.tight_layout()\n",
    "#plt.show()"
   ]
  },
  {
   "cell_type": "markdown",
   "metadata": {},
   "source": [
    "___\n",
    "## Conclusão "
   ]
  },
  {
   "cell_type": "markdown",
   "metadata": {
    "collapsed": true
   },
   "source": [
    "Descreva aqui suas conclusões!"
   ]
  },
  {
   "cell_type": "code",
   "execution_count": null,
   "metadata": {
    "collapsed": true
   },
   "outputs": [],
   "source": []
  }
 ],
 "metadata": {
  "anaconda-cloud": {},
  "kernelspec": {
   "display_name": "Python 3",
   "language": "python",
   "name": "python3"
  },
  "language_info": {
   "codemirror_mode": {
    "name": "ipython",
    "version": 3
   },
   "file_extension": ".py",
   "mimetype": "text/x-python",
   "name": "python",
   "nbconvert_exporter": "python",
   "pygments_lexer": "ipython3",
   "version": "3.6.0"
  }
 },
 "nbformat": 4,
 "nbformat_minor": 1
}
